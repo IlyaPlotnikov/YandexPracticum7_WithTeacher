{
 "cells": [
  {
   "cell_type": "markdown",
   "metadata": {
    "toc": true
   },
   "source": [
    "<h1>Содержание<span class=\"tocSkip\"></span></h1>\n",
    "<div class=\"toc\"><ul class=\"toc-item\"><li><span><a href=\"#Подготовка-данных\" data-toc-modified-id=\"Подготовка-данных-1\"><span class=\"toc-item-num\">1&nbsp;&nbsp;</span>Подготовка данных</a></span></li><li><span><a href=\"#Исследование-задачи\" data-toc-modified-id=\"Исследование-задачи-2\"><span class=\"toc-item-num\">2&nbsp;&nbsp;</span>Исследование задачи</a></span></li><li><span><a href=\"#Борьба-с-дисбалансом\" data-toc-modified-id=\"Борьба-с-дисбалансом-3\"><span class=\"toc-item-num\">3&nbsp;&nbsp;</span>Борьба с дисбалансом</a></span></li><li><span><a href=\"#Тестирование-модели\" data-toc-modified-id=\"Тестирование-модели-4\"><span class=\"toc-item-num\">4&nbsp;&nbsp;</span>Тестирование модели</a></span></li><li><span><a href=\"#Чек-лист-готовности-проекта\" data-toc-modified-id=\"Чек-лист-готовности-проекта-5\"><span class=\"toc-item-num\">5&nbsp;&nbsp;</span>Чек-лист готовности проекта</a></span></li></ul></div>"
   ]
  },
  {
   "cell_type": "markdown",
   "metadata": {},
   "source": [
    "# Отток клиентов"
   ]
  },
  {
   "cell_type": "markdown",
   "metadata": {},
   "source": [
    "Из «Бета-Банка» стали уходить клиенты. Каждый месяц. Немного, но заметно. Банковские маркетологи посчитали: сохранять текущих клиентов дешевле, чем привлекать новых.\n",
    "\n",
    "Нужно спрогнозировать, уйдёт клиент из банка в ближайшее время или нет. Вам предоставлены исторические данные о поведении клиентов и расторжении договоров с банком. \n",
    "\n",
    "Постройте модель с предельно большим значением *F1*-меры. Чтобы сдать проект успешно, нужно довести метрику до 0.59. Проверьте *F1*-меру на тестовой выборке самостоятельно.\n",
    "\n",
    "Дополнительно измеряйте *AUC-ROC*, сравнивайте её значение с *F1*-мерой.\n",
    "\n",
    "Источник данных: [https://www.kaggle.com/barelydedicated/bank-customer-churn-modeling](https://www.kaggle.com/barelydedicated/bank-customer-churn-modeling)"
   ]
  },
  {
   "cell_type": "markdown",
   "metadata": {},
   "source": [
    "## Подготовка данных"
   ]
  },
  {
   "cell_type": "code",
   "execution_count": 1,
   "metadata": {},
   "outputs": [],
   "source": [
    "#импортируем библиотеки необходимые для подготовки данных\n",
    "import pandas as pd\n",
    "import numpy as np\n",
    "import matplotlib.pyplot as plt\n",
    "from sklearn.model_selection import train_test_split\n",
    "from sklearn.preprocessing import StandardScaler\n",
    "from sklearn.metrics import f1_score\n",
    "from sklearn.model_selection import train_test_split\n",
    "from sklearn.linear_model import LogisticRegression\n",
    "import warnings\n",
    "from sklearn import tree\n",
    "from sklearn.utils import shuffle\n",
    "from sklearn.metrics import roc_auc_score\n",
    "\n",
    "warnings.filterwarnings('ignore')"
   ]
  },
  {
   "cell_type": "markdown",
   "metadata": {},
   "source": [
    "<div class=\"alert alert-info\">\n",
    "<font color='Blue'>\n",
    "Предполагалось использование plt из-за гистограмм, но ограничилось применение их из numpy. В дальнейшем буду внимательнее"
   ]
  },
  {
   "cell_type": "code",
   "execution_count": 2,
   "metadata": {},
   "outputs": [
    {
     "name": "stdout",
     "output_type": "stream",
     "text": [
      "<class 'pandas.core.frame.DataFrame'>\n",
      "RangeIndex: 10000 entries, 0 to 9999\n",
      "Data columns (total 14 columns):\n",
      " #   Column           Non-Null Count  Dtype  \n",
      "---  ------           --------------  -----  \n",
      " 0   RowNumber        10000 non-null  int64  \n",
      " 1   CustomerId       10000 non-null  int64  \n",
      " 2   Surname          10000 non-null  object \n",
      " 3   CreditScore      10000 non-null  int64  \n",
      " 4   Geography        10000 non-null  object \n",
      " 5   Gender           10000 non-null  object \n",
      " 6   Age              10000 non-null  int64  \n",
      " 7   Tenure           9091 non-null   float64\n",
      " 8   Balance          10000 non-null  float64\n",
      " 9   NumOfProducts    10000 non-null  int64  \n",
      " 10  HasCrCard        10000 non-null  int64  \n",
      " 11  IsActiveMember   10000 non-null  int64  \n",
      " 12  EstimatedSalary  10000 non-null  float64\n",
      " 13  Exited           10000 non-null  int64  \n",
      "dtypes: float64(3), int64(8), object(3)\n",
      "memory usage: 1.1+ MB\n"
     ]
    }
   ],
   "source": [
    "df = pd.read_csv('/datasets/Churn.csv') # открываем файл Churn.csv\n",
    "df.info()"
   ]
  },
  {
   "cell_type": "code",
   "execution_count": 3,
   "metadata": {},
   "outputs": [
    {
     "data": {
      "text/html": [
       "<div>\n",
       "<style scoped>\n",
       "    .dataframe tbody tr th:only-of-type {\n",
       "        vertical-align: middle;\n",
       "    }\n",
       "\n",
       "    .dataframe tbody tr th {\n",
       "        vertical-align: top;\n",
       "    }\n",
       "\n",
       "    .dataframe thead th {\n",
       "        text-align: right;\n",
       "    }\n",
       "</style>\n",
       "<table border=\"1\" class=\"dataframe\">\n",
       "  <thead>\n",
       "    <tr style=\"text-align: right;\">\n",
       "      <th></th>\n",
       "      <th>RowNumber</th>\n",
       "      <th>CustomerId</th>\n",
       "      <th>Surname</th>\n",
       "      <th>CreditScore</th>\n",
       "      <th>Geography</th>\n",
       "      <th>Gender</th>\n",
       "      <th>Age</th>\n",
       "      <th>Tenure</th>\n",
       "      <th>Balance</th>\n",
       "      <th>NumOfProducts</th>\n",
       "      <th>HasCrCard</th>\n",
       "      <th>IsActiveMember</th>\n",
       "      <th>EstimatedSalary</th>\n",
       "      <th>Exited</th>\n",
       "    </tr>\n",
       "  </thead>\n",
       "  <tbody>\n",
       "    <tr>\n",
       "      <th>0</th>\n",
       "      <td>1</td>\n",
       "      <td>15634602</td>\n",
       "      <td>Hargrave</td>\n",
       "      <td>619</td>\n",
       "      <td>France</td>\n",
       "      <td>Female</td>\n",
       "      <td>42</td>\n",
       "      <td>2.0</td>\n",
       "      <td>0.00</td>\n",
       "      <td>1</td>\n",
       "      <td>1</td>\n",
       "      <td>1</td>\n",
       "      <td>101348.88</td>\n",
       "      <td>1</td>\n",
       "    </tr>\n",
       "    <tr>\n",
       "      <th>1</th>\n",
       "      <td>2</td>\n",
       "      <td>15647311</td>\n",
       "      <td>Hill</td>\n",
       "      <td>608</td>\n",
       "      <td>Spain</td>\n",
       "      <td>Female</td>\n",
       "      <td>41</td>\n",
       "      <td>1.0</td>\n",
       "      <td>83807.86</td>\n",
       "      <td>1</td>\n",
       "      <td>0</td>\n",
       "      <td>1</td>\n",
       "      <td>112542.58</td>\n",
       "      <td>0</td>\n",
       "    </tr>\n",
       "    <tr>\n",
       "      <th>2</th>\n",
       "      <td>3</td>\n",
       "      <td>15619304</td>\n",
       "      <td>Onio</td>\n",
       "      <td>502</td>\n",
       "      <td>France</td>\n",
       "      <td>Female</td>\n",
       "      <td>42</td>\n",
       "      <td>8.0</td>\n",
       "      <td>159660.80</td>\n",
       "      <td>3</td>\n",
       "      <td>1</td>\n",
       "      <td>0</td>\n",
       "      <td>113931.57</td>\n",
       "      <td>1</td>\n",
       "    </tr>\n",
       "    <tr>\n",
       "      <th>3</th>\n",
       "      <td>4</td>\n",
       "      <td>15701354</td>\n",
       "      <td>Boni</td>\n",
       "      <td>699</td>\n",
       "      <td>France</td>\n",
       "      <td>Female</td>\n",
       "      <td>39</td>\n",
       "      <td>1.0</td>\n",
       "      <td>0.00</td>\n",
       "      <td>2</td>\n",
       "      <td>0</td>\n",
       "      <td>0</td>\n",
       "      <td>93826.63</td>\n",
       "      <td>0</td>\n",
       "    </tr>\n",
       "    <tr>\n",
       "      <th>4</th>\n",
       "      <td>5</td>\n",
       "      <td>15737888</td>\n",
       "      <td>Mitchell</td>\n",
       "      <td>850</td>\n",
       "      <td>Spain</td>\n",
       "      <td>Female</td>\n",
       "      <td>43</td>\n",
       "      <td>2.0</td>\n",
       "      <td>125510.82</td>\n",
       "      <td>1</td>\n",
       "      <td>1</td>\n",
       "      <td>1</td>\n",
       "      <td>79084.10</td>\n",
       "      <td>0</td>\n",
       "    </tr>\n",
       "  </tbody>\n",
       "</table>\n",
       "</div>"
      ],
      "text/plain": [
       "   RowNumber  CustomerId   Surname  CreditScore Geography  Gender  Age  \\\n",
       "0          1    15634602  Hargrave          619    France  Female   42   \n",
       "1          2    15647311      Hill          608     Spain  Female   41   \n",
       "2          3    15619304      Onio          502    France  Female   42   \n",
       "3          4    15701354      Boni          699    France  Female   39   \n",
       "4          5    15737888  Mitchell          850     Spain  Female   43   \n",
       "\n",
       "   Tenure    Balance  NumOfProducts  HasCrCard  IsActiveMember  \\\n",
       "0     2.0       0.00              1          1               1   \n",
       "1     1.0   83807.86              1          0               1   \n",
       "2     8.0  159660.80              3          1               0   \n",
       "3     1.0       0.00              2          0               0   \n",
       "4     2.0  125510.82              1          1               1   \n",
       "\n",
       "   EstimatedSalary  Exited  \n",
       "0        101348.88       1  \n",
       "1        112542.58       0  \n",
       "2        113931.57       1  \n",
       "3         93826.63       0  \n",
       "4         79084.10       0  "
      ]
     },
     "execution_count": 3,
     "metadata": {},
     "output_type": "execute_result"
    }
   ],
   "source": [
    "df.head()"
   ]
  },
  {
   "cell_type": "markdown",
   "metadata": {},
   "source": [
    "<div class=\"alert alert-info\">\n",
    " <font color='Blue'>\n",
    "     <b>Пропуски обнаружены только в столбце Tenure (сколько лет человек является клиентом банка) - пропуски можно заполнить медианным значением"
   ]
  },
  {
   "cell_type": "code",
   "execution_count": 4,
   "metadata": {},
   "outputs": [],
   "source": [
    "df['Tenure'] = df['Tenure'].fillna(df['Tenure'].median()) # заполняю пропуски медианными значениями"
   ]
  },
  {
   "cell_type": "markdown",
   "metadata": {},
   "source": [
    "<div class=\"alert alert-info\">\n",
    "<font color='Blue'>\n",
    "    <b>Привожу к нижнему регистру название столбцов и данные в четырёх столбцах 'Surname','Geography', и'Gender' со значениями \"str\""
   ]
  },
  {
   "cell_type": "code",
   "execution_count": 5,
   "metadata": {},
   "outputs": [
    {
     "data": {
      "text/html": [
       "<div>\n",
       "<style scoped>\n",
       "    .dataframe tbody tr th:only-of-type {\n",
       "        vertical-align: middle;\n",
       "    }\n",
       "\n",
       "    .dataframe tbody tr th {\n",
       "        vertical-align: top;\n",
       "    }\n",
       "\n",
       "    .dataframe thead th {\n",
       "        text-align: right;\n",
       "    }\n",
       "</style>\n",
       "<table border=\"1\" class=\"dataframe\">\n",
       "  <thead>\n",
       "    <tr style=\"text-align: right;\">\n",
       "      <th></th>\n",
       "      <th>rownumber</th>\n",
       "      <th>customerid</th>\n",
       "      <th>surname</th>\n",
       "      <th>creditscore</th>\n",
       "      <th>geography</th>\n",
       "      <th>gender</th>\n",
       "      <th>age</th>\n",
       "      <th>tenure</th>\n",
       "      <th>balance</th>\n",
       "      <th>numofproducts</th>\n",
       "      <th>hascrcard</th>\n",
       "      <th>isactivemember</th>\n",
       "      <th>estimatedsalary</th>\n",
       "      <th>exited</th>\n",
       "    </tr>\n",
       "  </thead>\n",
       "  <tbody>\n",
       "    <tr>\n",
       "      <th>0</th>\n",
       "      <td>1</td>\n",
       "      <td>15634602</td>\n",
       "      <td>hargrave</td>\n",
       "      <td>619</td>\n",
       "      <td>france</td>\n",
       "      <td>female</td>\n",
       "      <td>42</td>\n",
       "      <td>2.0</td>\n",
       "      <td>0.00</td>\n",
       "      <td>1</td>\n",
       "      <td>1</td>\n",
       "      <td>1</td>\n",
       "      <td>101348.88</td>\n",
       "      <td>1</td>\n",
       "    </tr>\n",
       "    <tr>\n",
       "      <th>1</th>\n",
       "      <td>2</td>\n",
       "      <td>15647311</td>\n",
       "      <td>hill</td>\n",
       "      <td>608</td>\n",
       "      <td>spain</td>\n",
       "      <td>female</td>\n",
       "      <td>41</td>\n",
       "      <td>1.0</td>\n",
       "      <td>83807.86</td>\n",
       "      <td>1</td>\n",
       "      <td>0</td>\n",
       "      <td>1</td>\n",
       "      <td>112542.58</td>\n",
       "      <td>0</td>\n",
       "    </tr>\n",
       "    <tr>\n",
       "      <th>2</th>\n",
       "      <td>3</td>\n",
       "      <td>15619304</td>\n",
       "      <td>onio</td>\n",
       "      <td>502</td>\n",
       "      <td>france</td>\n",
       "      <td>female</td>\n",
       "      <td>42</td>\n",
       "      <td>8.0</td>\n",
       "      <td>159660.80</td>\n",
       "      <td>3</td>\n",
       "      <td>1</td>\n",
       "      <td>0</td>\n",
       "      <td>113931.57</td>\n",
       "      <td>1</td>\n",
       "    </tr>\n",
       "    <tr>\n",
       "      <th>3</th>\n",
       "      <td>4</td>\n",
       "      <td>15701354</td>\n",
       "      <td>boni</td>\n",
       "      <td>699</td>\n",
       "      <td>france</td>\n",
       "      <td>female</td>\n",
       "      <td>39</td>\n",
       "      <td>1.0</td>\n",
       "      <td>0.00</td>\n",
       "      <td>2</td>\n",
       "      <td>0</td>\n",
       "      <td>0</td>\n",
       "      <td>93826.63</td>\n",
       "      <td>0</td>\n",
       "    </tr>\n",
       "    <tr>\n",
       "      <th>4</th>\n",
       "      <td>5</td>\n",
       "      <td>15737888</td>\n",
       "      <td>mitchell</td>\n",
       "      <td>850</td>\n",
       "      <td>spain</td>\n",
       "      <td>female</td>\n",
       "      <td>43</td>\n",
       "      <td>2.0</td>\n",
       "      <td>125510.82</td>\n",
       "      <td>1</td>\n",
       "      <td>1</td>\n",
       "      <td>1</td>\n",
       "      <td>79084.10</td>\n",
       "      <td>0</td>\n",
       "    </tr>\n",
       "  </tbody>\n",
       "</table>\n",
       "</div>"
      ],
      "text/plain": [
       "   rownumber  customerid   surname  creditscore geography  gender  age  \\\n",
       "0          1    15634602  hargrave          619    france  female   42   \n",
       "1          2    15647311      hill          608     spain  female   41   \n",
       "2          3    15619304      onio          502    france  female   42   \n",
       "3          4    15701354      boni          699    france  female   39   \n",
       "4          5    15737888  mitchell          850     spain  female   43   \n",
       "\n",
       "   tenure    balance  numofproducts  hascrcard  isactivemember  \\\n",
       "0     2.0       0.00              1          1               1   \n",
       "1     1.0   83807.86              1          0               1   \n",
       "2     8.0  159660.80              3          1               0   \n",
       "3     1.0       0.00              2          0               0   \n",
       "4     2.0  125510.82              1          1               1   \n",
       "\n",
       "   estimatedsalary  exited  \n",
       "0        101348.88       1  \n",
       "1        112542.58       0  \n",
       "2        113931.57       1  \n",
       "3         93826.63       0  \n",
       "4         79084.10       0  "
      ]
     },
     "execution_count": 5,
     "metadata": {},
     "output_type": "execute_result"
    }
   ],
   "source": [
    "df.columns = map(str.lower, df.columns)\n",
    "for column in df[['surname','geography','gender']]:\n",
    "    df[column] = df[column].str.lower()\n",
    "df.head()"
   ]
  },
  {
   "cell_type": "code",
   "execution_count": 6,
   "metadata": {},
   "outputs": [
    {
     "data": {
      "text/plain": [
       "array(['france', 'spain', 'germany'], dtype=object)"
      ]
     },
     "execution_count": 6,
     "metadata": {},
     "output_type": "execute_result"
    }
   ],
   "source": [
    "df['geography'].unique() # проверяю столбец на количество уникальных данных"
   ]
  },
  {
   "cell_type": "markdown",
   "metadata": {},
   "source": [
    "<div class=\"alert alert-info\">\n",
    "<font color='Blue'>\n",
    "    <b>В Столбце geography всего три уникальных значения: 'france', 'spain', 'germany'"
   ]
  },
  {
   "cell_type": "code",
   "execution_count": 7,
   "metadata": {},
   "outputs": [
    {
     "data": {
      "text/plain": [
       "0"
      ]
     },
     "execution_count": 7,
     "metadata": {},
     "output_type": "execute_result"
    }
   ],
   "source": [
    "df.duplicated().sum()"
   ]
  },
  {
   "cell_type": "code",
   "execution_count": 8,
   "metadata": {},
   "outputs": [
    {
     "data": {
      "text/plain": [
       "10000"
      ]
     },
     "execution_count": 8,
     "metadata": {},
     "output_type": "execute_result"
    }
   ],
   "source": [
    "df['customerid'].value_counts().sum() "
   ]
  },
  {
   "cell_type": "markdown",
   "metadata": {},
   "source": [
    "<div class=\"alert alert-info\">\n",
    "<font color='Blue'>\n",
    "    <b>Дубликатов в данных не обнаружено <p>\n",
    "        Столбцы: rownumber, customerld и surname можно удалить, так как не несут ценности для обучения модели."
   ]
  },
  {
   "cell_type": "code",
   "execution_count": 9,
   "metadata": {},
   "outputs": [
    {
     "data": {
      "text/html": [
       "<div>\n",
       "<style scoped>\n",
       "    .dataframe tbody tr th:only-of-type {\n",
       "        vertical-align: middle;\n",
       "    }\n",
       "\n",
       "    .dataframe tbody tr th {\n",
       "        vertical-align: top;\n",
       "    }\n",
       "\n",
       "    .dataframe thead th {\n",
       "        text-align: right;\n",
       "    }\n",
       "</style>\n",
       "<table border=\"1\" class=\"dataframe\">\n",
       "  <thead>\n",
       "    <tr style=\"text-align: right;\">\n",
       "      <th></th>\n",
       "      <th>creditscore</th>\n",
       "      <th>geography</th>\n",
       "      <th>gender</th>\n",
       "      <th>age</th>\n",
       "      <th>tenure</th>\n",
       "      <th>balance</th>\n",
       "      <th>numofproducts</th>\n",
       "      <th>hascrcard</th>\n",
       "      <th>isactivemember</th>\n",
       "      <th>estimatedsalary</th>\n",
       "      <th>exited</th>\n",
       "    </tr>\n",
       "  </thead>\n",
       "  <tbody>\n",
       "    <tr>\n",
       "      <th>0</th>\n",
       "      <td>619</td>\n",
       "      <td>france</td>\n",
       "      <td>female</td>\n",
       "      <td>42</td>\n",
       "      <td>2.0</td>\n",
       "      <td>0.00</td>\n",
       "      <td>1</td>\n",
       "      <td>1</td>\n",
       "      <td>1</td>\n",
       "      <td>101348.88</td>\n",
       "      <td>1</td>\n",
       "    </tr>\n",
       "    <tr>\n",
       "      <th>1</th>\n",
       "      <td>608</td>\n",
       "      <td>spain</td>\n",
       "      <td>female</td>\n",
       "      <td>41</td>\n",
       "      <td>1.0</td>\n",
       "      <td>83807.86</td>\n",
       "      <td>1</td>\n",
       "      <td>0</td>\n",
       "      <td>1</td>\n",
       "      <td>112542.58</td>\n",
       "      <td>0</td>\n",
       "    </tr>\n",
       "    <tr>\n",
       "      <th>2</th>\n",
       "      <td>502</td>\n",
       "      <td>france</td>\n",
       "      <td>female</td>\n",
       "      <td>42</td>\n",
       "      <td>8.0</td>\n",
       "      <td>159660.80</td>\n",
       "      <td>3</td>\n",
       "      <td>1</td>\n",
       "      <td>0</td>\n",
       "      <td>113931.57</td>\n",
       "      <td>1</td>\n",
       "    </tr>\n",
       "    <tr>\n",
       "      <th>3</th>\n",
       "      <td>699</td>\n",
       "      <td>france</td>\n",
       "      <td>female</td>\n",
       "      <td>39</td>\n",
       "      <td>1.0</td>\n",
       "      <td>0.00</td>\n",
       "      <td>2</td>\n",
       "      <td>0</td>\n",
       "      <td>0</td>\n",
       "      <td>93826.63</td>\n",
       "      <td>0</td>\n",
       "    </tr>\n",
       "    <tr>\n",
       "      <th>4</th>\n",
       "      <td>850</td>\n",
       "      <td>spain</td>\n",
       "      <td>female</td>\n",
       "      <td>43</td>\n",
       "      <td>2.0</td>\n",
       "      <td>125510.82</td>\n",
       "      <td>1</td>\n",
       "      <td>1</td>\n",
       "      <td>1</td>\n",
       "      <td>79084.10</td>\n",
       "      <td>0</td>\n",
       "    </tr>\n",
       "  </tbody>\n",
       "</table>\n",
       "</div>"
      ],
      "text/plain": [
       "   creditscore geography  gender  age  tenure    balance  numofproducts  \\\n",
       "0          619    france  female   42     2.0       0.00              1   \n",
       "1          608     spain  female   41     1.0   83807.86              1   \n",
       "2          502    france  female   42     8.0  159660.80              3   \n",
       "3          699    france  female   39     1.0       0.00              2   \n",
       "4          850     spain  female   43     2.0  125510.82              1   \n",
       "\n",
       "   hascrcard  isactivemember  estimatedsalary  exited  \n",
       "0          1               1        101348.88       1  \n",
       "1          0               1        112542.58       0  \n",
       "2          1               0        113931.57       1  \n",
       "3          0               0         93826.63       0  \n",
       "4          1               1         79084.10       0  "
      ]
     },
     "execution_count": 9,
     "metadata": {},
     "output_type": "execute_result"
    }
   ],
   "source": [
    "for_drop = ['rownumber','customerid', 'surname']\n",
    "df_ml = df.drop(for_drop, axis=1) # удаляю столбцы, не представляющие ценностия для обучения модели\n",
    "df_ml.head()"
   ]
  },
  {
   "cell_type": "code",
   "execution_count": 10,
   "metadata": {},
   "outputs": [
    {
     "data": {
      "text/plain": [
       "(10000, 11)"
      ]
     },
     "execution_count": 10,
     "metadata": {},
     "output_type": "execute_result"
    }
   ],
   "source": [
    "df_ml.shape"
   ]
  },
  {
   "cell_type": "markdown",
   "metadata": {},
   "source": [
    "<div class=\"alert alert-info\">\n",
    "<font color='Blue'>\n",
    "    <b>Подготовим данные методом OHE"
   ]
  },
  {
   "cell_type": "code",
   "execution_count": 11,
   "metadata": {},
   "outputs": [
    {
     "data": {
      "text/html": [
       "<div>\n",
       "<style scoped>\n",
       "    .dataframe tbody tr th:only-of-type {\n",
       "        vertical-align: middle;\n",
       "    }\n",
       "\n",
       "    .dataframe tbody tr th {\n",
       "        vertical-align: top;\n",
       "    }\n",
       "\n",
       "    .dataframe thead th {\n",
       "        text-align: right;\n",
       "    }\n",
       "</style>\n",
       "<table border=\"1\" class=\"dataframe\">\n",
       "  <thead>\n",
       "    <tr style=\"text-align: right;\">\n",
       "      <th></th>\n",
       "      <th>creditscore</th>\n",
       "      <th>age</th>\n",
       "      <th>tenure</th>\n",
       "      <th>balance</th>\n",
       "      <th>numofproducts</th>\n",
       "      <th>hascrcard</th>\n",
       "      <th>isactivemember</th>\n",
       "      <th>estimatedsalary</th>\n",
       "      <th>exited</th>\n",
       "      <th>geography_germany</th>\n",
       "      <th>geography_spain</th>\n",
       "      <th>gender_male</th>\n",
       "    </tr>\n",
       "  </thead>\n",
       "  <tbody>\n",
       "    <tr>\n",
       "      <th>0</th>\n",
       "      <td>619</td>\n",
       "      <td>42</td>\n",
       "      <td>2.0</td>\n",
       "      <td>0.00</td>\n",
       "      <td>1</td>\n",
       "      <td>1</td>\n",
       "      <td>1</td>\n",
       "      <td>101348.88</td>\n",
       "      <td>1</td>\n",
       "      <td>0</td>\n",
       "      <td>0</td>\n",
       "      <td>0</td>\n",
       "    </tr>\n",
       "    <tr>\n",
       "      <th>1</th>\n",
       "      <td>608</td>\n",
       "      <td>41</td>\n",
       "      <td>1.0</td>\n",
       "      <td>83807.86</td>\n",
       "      <td>1</td>\n",
       "      <td>0</td>\n",
       "      <td>1</td>\n",
       "      <td>112542.58</td>\n",
       "      <td>0</td>\n",
       "      <td>0</td>\n",
       "      <td>1</td>\n",
       "      <td>0</td>\n",
       "    </tr>\n",
       "    <tr>\n",
       "      <th>2</th>\n",
       "      <td>502</td>\n",
       "      <td>42</td>\n",
       "      <td>8.0</td>\n",
       "      <td>159660.80</td>\n",
       "      <td>3</td>\n",
       "      <td>1</td>\n",
       "      <td>0</td>\n",
       "      <td>113931.57</td>\n",
       "      <td>1</td>\n",
       "      <td>0</td>\n",
       "      <td>0</td>\n",
       "      <td>0</td>\n",
       "    </tr>\n",
       "    <tr>\n",
       "      <th>3</th>\n",
       "      <td>699</td>\n",
       "      <td>39</td>\n",
       "      <td>1.0</td>\n",
       "      <td>0.00</td>\n",
       "      <td>2</td>\n",
       "      <td>0</td>\n",
       "      <td>0</td>\n",
       "      <td>93826.63</td>\n",
       "      <td>0</td>\n",
       "      <td>0</td>\n",
       "      <td>0</td>\n",
       "      <td>0</td>\n",
       "    </tr>\n",
       "    <tr>\n",
       "      <th>4</th>\n",
       "      <td>850</td>\n",
       "      <td>43</td>\n",
       "      <td>2.0</td>\n",
       "      <td>125510.82</td>\n",
       "      <td>1</td>\n",
       "      <td>1</td>\n",
       "      <td>1</td>\n",
       "      <td>79084.10</td>\n",
       "      <td>0</td>\n",
       "      <td>0</td>\n",
       "      <td>1</td>\n",
       "      <td>0</td>\n",
       "    </tr>\n",
       "  </tbody>\n",
       "</table>\n",
       "</div>"
      ],
      "text/plain": [
       "   creditscore  age  tenure    balance  numofproducts  hascrcard  \\\n",
       "0          619   42     2.0       0.00              1          1   \n",
       "1          608   41     1.0   83807.86              1          0   \n",
       "2          502   42     8.0  159660.80              3          1   \n",
       "3          699   39     1.0       0.00              2          0   \n",
       "4          850   43     2.0  125510.82              1          1   \n",
       "\n",
       "   isactivemember  estimatedsalary  exited  geography_germany  \\\n",
       "0               1        101348.88       1                  0   \n",
       "1               1        112542.58       0                  0   \n",
       "2               0        113931.57       1                  0   \n",
       "3               0         93826.63       0                  0   \n",
       "4               1         79084.10       0                  0   \n",
       "\n",
       "   geography_spain  gender_male  \n",
       "0                0            0  \n",
       "1                1            0  \n",
       "2                0            0  \n",
       "3                0            0  \n",
       "4                1            0  "
      ]
     },
     "execution_count": 11,
     "metadata": {},
     "output_type": "execute_result"
    }
   ],
   "source": [
    "df_ml = pd.get_dummies(df_ml,drop_first=True)\n",
    "df_ml.head()"
   ]
  },
  {
   "cell_type": "code",
   "execution_count": 12,
   "metadata": {},
   "outputs": [
    {
     "data": {
      "text/plain": [
       "(10000, 12)"
      ]
     },
     "execution_count": 12,
     "metadata": {},
     "output_type": "execute_result"
    }
   ],
   "source": [
    "df_ml.shape"
   ]
  },
  {
   "cell_type": "markdown",
   "metadata": {},
   "source": [
    "<div class=\"alert alert-info\">\n",
    "<font color='Blue'>\n",
    "    <b> Новый 12 столбцов.\n",
    "Столбец Geography содержал 3 класса, Gender_Male 2 класса — в результате мы получили только 2 и 1 столбцов соответственно, что позволяет избежать дами-ловушки."
   ]
  },
  {
   "cell_type": "markdown",
   "metadata": {},
   "source": [
    "<div class=\"alert alert-info\">\n",
    "<font color='Blue'>\n",
    "    Ошибочно не исправил старый комментарий. После get_dummies получили три столбца с национальностью вместо одного и два с полом вместо одного."
   ]
  },
  {
   "cell_type": "markdown",
   "metadata": {},
   "source": [
    "<div class=\"alert alert-info\">\n",
    "<font color='Blue'>\n",
    "    Изначально писал drop_first=True, но тогда мне казалось, что теряются данные(один столбец). Добавил, Спасибо!"
   ]
  },
  {
   "cell_type": "markdown",
   "metadata": {},
   "source": [
    "## Исследование задачи"
   ]
  },
  {
   "cell_type": "markdown",
   "metadata": {},
   "source": [
    "<div class=\"alert alert-info\">\n",
    "<font color='Blue'>\n",
    "Исследуем классы(1 и 0) на вес"
   ]
  },
  {
   "cell_type": "code",
   "execution_count": 13,
   "metadata": {},
   "outputs": [
    {
     "name": "stdout",
     "output_type": "stream",
     "text": [
      "0    0.7963\n",
      "1    0.2037\n",
      "Name: exited, dtype: float64\n"
     ]
    },
    {
     "data": {
      "text/plain": [
       "<AxesSubplot:>"
      ]
     },
     "execution_count": 13,
     "metadata": {},
     "output_type": "execute_result"
    },
    {
     "data": {
      "image/png": "[encoded data removed]",
      "text/plain": [
       "<Figure size 432x288 with 1 Axes>"
      ]
     },
     "metadata": {
      "needs_background": "light"
     },
     "output_type": "display_data"
    }
   ],
   "source": [
    "class_frequency = df_ml['exited'].value_counts(normalize= True) # < напишите код здесь >)\n",
    "print(class_frequency)\n",
    "class_frequency.plot(kind='bar')"
   ]
  },
  {
   "cell_type": "markdown",
   "metadata": {},
   "source": [
    "<div class=\"alert alert-info\">\n",
    "<font color='Blue'>\n",
    "Попробуем обучить модель без учета дисбаланса классов. Поскольку задача классификации, применим Логистическую регрессию"
   ]
  },
  {
   "cell_type": "code",
   "execution_count": 14,
   "metadata": {},
   "outputs": [],
   "source": [
    "target = df_ml['exited']\n",
    "features = df_ml.drop('exited', axis=1)\n",
    "features_train, features_test, target_train, target_test = train_test_split(features, target, \n",
    "                                                    train_size=0.6, \n",
    "                                                    random_state=12345)"
   ]
  },
  {
   "cell_type": "code",
   "execution_count": 15,
   "metadata": {},
   "outputs": [],
   "source": [
    "features_test, features_valid, target_test, target_valid = train_test_split(features_test, target_test, \n",
    "                                                    train_size=0.5, \n",
    "                                                    random_state=12345,\n",
    "                                                    )"
   ]
  },
  {
   "cell_type": "code",
   "execution_count": 16,
   "metadata": {
    "scrolled": true
   },
   "outputs": [
    {
     "name": "stdout",
     "output_type": "stream",
     "text": [
      "100 0.28822495606326887 newton-cg\n"
     ]
    }
   ],
   "source": [
    "best_solver = None\n",
    "best_iter = 0\n",
    "best_lr_model = None\n",
    "best_result=0\n",
    "\n",
    "for solver in ['lbfgs', 'saga', 'newton-cg', 'liblinear']:\n",
    "    for m_iter in [100, 1000, 10000]:\n",
    "        model = LogisticRegression(random_state=12345, solver=solver, max_iter=m_iter) \n",
    "        model.fit(features_train, target_train)\n",
    "        current_predictions=model.predict(features_valid)\n",
    "        result = f1_score(target_valid, current_predictions)\n",
    "        if result >best_result:\n",
    "                best_iter = m_iter\n",
    "                best_result = result\n",
    "                best_solver = solver\n",
    "print(best_iter, best_result, best_solver)"
   ]
  },
  {
   "cell_type": "markdown",
   "metadata": {},
   "source": [
    "Лучшая точность у метода Ньютона с максимальным количеством Итераций = 100"
   ]
  },
  {
   "cell_type": "markdown",
   "metadata": {},
   "source": [
    "<div class=\"alert alert-info\">\n",
    "<font color='Blue'>\n",
    "Исправил score на f1_score. Соответственно теперь у логрегрессии лучшее значение f1 = 0.28. Ниже описал для дерева"
   ]
  },
  {
   "cell_type": "code",
   "execution_count": 17,
   "metadata": {},
   "outputs": [
    {
     "data": {
      "text/plain": [
       "LogisticRegression(random_state=12345, solver='newton-cg')"
      ]
     },
     "execution_count": 17,
     "metadata": {},
     "output_type": "execute_result"
    }
   ],
   "source": [
    "best_model=LogisticRegression(random_state=12345, solver='newton-cg',max_iter=100)\n",
    "best_model.fit(features_train, target_train)"
   ]
  },
  {
   "cell_type": "code",
   "execution_count": 18,
   "metadata": {},
   "outputs": [
    {
     "name": "stdout",
     "output_type": "stream",
     "text": [
      "0.5015772870662459 5\n"
     ]
    }
   ],
   "source": [
    "best_result=0\n",
    "best_depth = 0\n",
    "best_model = None\n",
    "\n",
    "for depth in range(1, 6):\n",
    "    model = tree.DecisionTreeClassifier(random_state=21,max_depth=depth)\n",
    "    model.fit(features_train, target_train)\n",
    "    current_predictions=model.predict(features_valid)\n",
    "    result = f1_score(target_valid, current_predictions)\n",
    "    if result >best_result:\n",
    "        best_model = model\n",
    "        best_result = result\n",
    "        best_depth = depth\n",
    "print(best_result, best_depth)"
   ]
  },
  {
   "cell_type": "markdown",
   "metadata": {},
   "source": [
    "<div class=\"alert alert-info\">\n",
    "<font color='Blue'>\n",
    "Точность у дерева оказалась выше"
   ]
  },
  {
   "cell_type": "markdown",
   "metadata": {},
   "source": [
    "## Борьба с дисбалансом"
   ]
  },
  {
   "cell_type": "markdown",
   "metadata": {},
   "source": [
    "<div class=\"alert alert-info\">\n",
    "<font color='Blue'>\n",
    "Улучшим качество модели, учитывая дисбаланс классов.  Добавим параметр class_weight='balanced' для дерева:"
   ]
  },
  {
   "cell_type": "code",
   "execution_count": 19,
   "metadata": {},
   "outputs": [
    {
     "data": {
      "text/plain": [
       "DecisionTreeClassifier(class_weight='balanced', max_depth=5, random_state=21)"
      ]
     },
     "execution_count": 19,
     "metadata": {},
     "output_type": "execute_result"
    }
   ],
   "source": [
    "best_model=tree.DecisionTreeClassifier(random_state=21,max_depth=5,class_weight='balanced')\n",
    "best_model.fit(features_train, target_train)"
   ]
  },
  {
   "cell_type": "code",
   "execution_count": 20,
   "metadata": {},
   "outputs": [],
   "source": [
    "predictions=best_model.predict(features_valid)"
   ]
  },
  {
   "cell_type": "code",
   "execution_count": 21,
   "metadata": {},
   "outputs": [
    {
     "data": {
      "text/plain": [
       "0.5809128630705395"
      ]
     },
     "execution_count": 21,
     "metadata": {},
     "output_type": "execute_result"
    }
   ],
   "source": [
    "f1_score(target_valid, predictions)"
   ]
  },
  {
   "cell_type": "markdown",
   "metadata": {},
   "source": [
    "<div class=\"alert alert-info\">\n",
    "<font color='Blue'>\n",
    "    Аналогично для логистической регрессии с наилучшими параметрами:"
   ]
  },
  {
   "cell_type": "code",
   "execution_count": 22,
   "metadata": {},
   "outputs": [],
   "source": [
    "best_model=LogisticRegression(random_state=12345, solver='newton-cg',max_iter=100, class_weight='balanced')\n",
    "best_model.fit(features_train, target_train)\n",
    "predictions=best_model.predict(features_valid)"
   ]
  },
  {
   "cell_type": "code",
   "execution_count": 23,
   "metadata": {},
   "outputs": [
    {
     "data": {
      "text/plain": [
       "0.47799827437446074"
      ]
     },
     "execution_count": 23,
     "metadata": {},
     "output_type": "execute_result"
    }
   ],
   "source": [
    "f1_score(target_valid, predictions)"
   ]
  },
  {
   "cell_type": "markdown",
   "metadata": {},
   "source": [
    "<div class=\"alert alert-info\">\n",
    "<font color='Blue'>\n",
    "Попробуем увеличить выборку техникой upsampling. Увеличить нужно положительные объекты"
   ]
  },
  {
   "cell_type": "code",
   "execution_count": 24,
   "metadata": {},
   "outputs": [],
   "source": [
    "def upsample(features, target, repeat):\n",
    "    features_zeros = features[target == 0]\n",
    "    features_ones = features[target == 1]\n",
    "    target_zeros = target[target == 0]\n",
    "    target_ones = target[target == 1]\n",
    "\n",
    "    features_upsampled = pd.concat([features_zeros] + [features_ones] * repeat)\n",
    "    target_upsampled = pd.concat([target_zeros] + [target_ones] * repeat)\n",
    "    \n",
    "    features_upsampled, target_upsampled = shuffle(\n",
    "        features_upsampled, target_upsampled, random_state=12345)\n",
    "    \n",
    "    return features_upsampled, target_upsampled"
   ]
  },
  {
   "cell_type": "code",
   "execution_count": 25,
   "metadata": {},
   "outputs": [],
   "source": [
    "features_upsampled, target_upsampled = upsample(features_train, target_train, 4)\n"
   ]
  },
  {
   "cell_type": "code",
   "execution_count": 26,
   "metadata": {},
   "outputs": [
    {
     "name": "stdout",
     "output_type": "stream",
     "text": [
      "0    0.501043\n",
      "1    0.498957\n",
      "Name: exited, dtype: float64\n"
     ]
    },
    {
     "data": {
      "text/plain": [
       "<AxesSubplot:>"
      ]
     },
     "execution_count": 26,
     "metadata": {},
     "output_type": "execute_result"
    },
    {
     "data": {
      "image/png": "[encoded data removed]",
      "text/plain": [
       "<Figure size 432x288 with 1 Axes>"
      ]
     },
     "metadata": {
      "needs_background": "light"
     },
     "output_type": "display_data"
    }
   ],
   "source": [
    "class_frequency = target_upsampled.value_counts(normalize= True) # < напишите код здесь >)\n",
    "print(class_frequency)\n",
    "class_frequency.plot(kind='bar')"
   ]
  },
  {
   "cell_type": "code",
   "execution_count": 35,
   "metadata": {},
   "outputs": [
    {
     "name": "stdout",
     "output_type": "stream",
     "text": [
      "F1: 0.4757785467128028\n"
     ]
    }
   ],
   "source": [
    "model=LogisticRegression(solver='newton-cg',random_state=12345,max_iter=100).fit(features_upsampled,target_upsampled)\n",
    "predicted_valid=model.predict(features_valid)\n",
    "\n",
    "print(\"F1:\", f1_score(target_valid, predicted_valid))"
   ]
  },
  {
   "cell_type": "markdown",
   "metadata": {},
   "source": [
    "<div class=\"alert alert-info\">\n",
    "<font color='Blue'>\n",
    "Получен тот же результат, что и при параметре class_weight='balanced'"
   ]
  },
  {
   "cell_type": "code",
   "execution_count": 36,
   "metadata": {},
   "outputs": [
    {
     "name": "stdout",
     "output_type": "stream",
     "text": [
      "F1: 0.5809128630705395\n"
     ]
    }
   ],
   "source": [
    "model=tree.DecisionTreeClassifier(random_state=21,max_depth=5).fit(features_upsampled,target_upsampled)\n",
    "predicted_valid=model.predict(features_valid)\n",
    "\n",
    "print(\"F1:\", f1_score(target_valid, predicted_valid))"
   ]
  },
  {
   "cell_type": "markdown",
   "metadata": {},
   "source": [
    "<div class=\"alert alert-info\">\n",
    "<font color='Blue'>\n",
    "    Возможно, техника downsampling покажет лучший результат"
   ]
  },
  {
   "cell_type": "code",
   "execution_count": 37,
   "metadata": {},
   "outputs": [],
   "source": [
    "def downsample(features, target, fraction):\n",
    "    features_zeros = features[target == 0]\n",
    "    features_ones = features[target == 1]\n",
    "    target_zeros = target[target == 0]\n",
    "    target_ones = target[target == 1]\n",
    "\n",
    "    features_downsampled = pd.concat(\n",
    "        [features_zeros.sample(frac=fraction, random_state=12345)] + [features_ones])\n",
    "    target_downsampled = pd.concat(\n",
    "        [target_zeros.sample(frac=fraction, random_state=12345)] + [target_ones])\n",
    "    \n",
    "    features_downsampled, target_downsampled = shuffle(\n",
    "        features_downsampled, target_downsampled, random_state=12345)\n",
    "    \n",
    "    return features_downsampled, target_downsampled"
   ]
  },
  {
   "cell_type": "code",
   "execution_count": 38,
   "metadata": {},
   "outputs": [],
   "source": [
    "features_downsampled, target_downsampled = downsample(features_train, target_train, 0.25)"
   ]
  },
  {
   "cell_type": "code",
   "execution_count": 39,
   "metadata": {},
   "outputs": [
    {
     "name": "stdout",
     "output_type": "stream",
     "text": [
      "0    0.501043\n",
      "1    0.498957\n",
      "Name: exited, dtype: float64\n"
     ]
    },
    {
     "data": {
      "text/plain": [
       "<AxesSubplot:>"
      ]
     },
     "execution_count": 39,
     "metadata": {},
     "output_type": "execute_result"
    },
    {
     "data": {
      "image/png": "[encoded data removed]",
      "text/plain": [
       "<Figure size 432x288 with 1 Axes>"
      ]
     },
     "metadata": {
      "needs_background": "light"
     },
     "output_type": "display_data"
    }
   ],
   "source": [
    "class_frequency = target_downsampled.value_counts(normalize= True) # < напишите код здесь >)\n",
    "print(class_frequency)\n",
    "class_frequency.plot(kind='bar')"
   ]
  },
  {
   "cell_type": "code",
   "execution_count": 40,
   "metadata": {},
   "outputs": [
    {
     "name": "stdout",
     "output_type": "stream",
     "text": [
      "F1: 0.43464314354450684\n"
     ]
    }
   ],
   "source": [
    "model=LogisticRegression(solver='liblinear',random_state=12345).fit(features_downsampled,target_downsampled)\n",
    "predicted_valid=model.predict(features_valid)\n",
    "print(\"F1:\", f1_score(target_valid, predicted_valid))"
   ]
  },
  {
   "cell_type": "markdown",
   "metadata": {},
   "source": [
    "<div class=\"alert alert-info\">\n",
    "<font color='Blue'>\n",
    "    Downsample показывает куда более худший результат."
   ]
  },
  {
   "cell_type": "markdown",
   "metadata": {},
   "source": [
    "<div class=\"alert alert-info\">\n",
    "<font color='Blue'>\n",
    "    В таком случае остановимся на варианте с upsampling"
   ]
  },
  {
   "cell_type": "markdown",
   "metadata": {},
   "source": [
    "## Тестирование модели"
   ]
  },
  {
   "cell_type": "markdown",
   "metadata": {},
   "source": [
    "<div class=\"alert alert-info\">\n",
    "<font color='Blue'>\n",
    "    Применяем технику upsampled к тренировочным данным с коэффициентом 4, обучаем модель дерева решений с глубиной 5 на этих данных и предсказываем."
   ]
  },
  {
   "cell_type": "code",
   "execution_count": 41,
   "metadata": {},
   "outputs": [
    {
     "name": "stdout",
     "output_type": "stream",
     "text": [
      "F1: 0.5963791267305644\n"
     ]
    }
   ],
   "source": [
    "model=tree.DecisionTreeClassifier(random_state=21,max_depth=5).fit(features_upsampled,target_upsampled)\n",
    "predicted_test=model.predict(features_test)\n",
    "\n",
    "print(\"F1:\", f1_score(target_test, predicted_test))"
   ]
  },
  {
   "cell_type": "markdown",
   "metadata": {},
   "source": [
    "<div class=\"alert alert-info\">\n",
    "<font color='Blue'>\n",
    "    Посчитаем метрику roc_auc"
   ]
  },
  {
   "cell_type": "code",
   "execution_count": 42,
   "metadata": {},
   "outputs": [
    {
     "data": {
      "text/plain": [
       "0.8310244134068074"
      ]
     },
     "execution_count": 42,
     "metadata": {},
     "output_type": "execute_result"
    }
   ],
   "source": [
    "roc_auc_score(target_test, model.predict_proba(features_test)[:,1])"
   ]
  },
  {
   "cell_type": "markdown",
   "metadata": {},
   "source": [
    "<div class=\"alert alert-info\">\n",
    "<font color='Blue'>\n",
    "    Поскольку задача классификации, то значение roc_auc = 0.83 - очень хороший результат"
   ]
  },
  {
   "cell_type": "markdown",
   "metadata": {},
   "source": [
    "<div class=\"alert alert-info\">\n",
    "<font color='Blue'>\n",
    "Вывод:\n",
    "    В ходе выполнения проекта была проведена преодобработка данных, а также попытки справиться с дисбалансом классов(например, с помощью техники upsampling и downsampling). В ходе проверок разных моделей, оказалось, что дерево решений с уравновешенными классами с помощью upsampling и глубиной 5 показвыает наилучшее значение метрики f1 = 0.59. Метрика roc_auc получилась 0.83, что говорит о неплохой эффективности модели."
   ]
  },
  {
   "cell_type": "markdown",
   "metadata": {},
   "source": [
    "## Чек-лист готовности проекта"
   ]
  },
  {
   "cell_type": "markdown",
   "metadata": {},
   "source": [
    "Поставьте 'x' в выполненных пунктах. Далее нажмите Shift+Enter."
   ]
  },
  {
   "cell_type": "markdown",
   "metadata": {},
   "source": [
    "- [x]  Jupyter Notebook открыт\n",
    "- [x]  Весь код выполняется без ошибок\n",
    "- [x]  Ячейки с кодом расположены в порядке исполнения\n",
    "- [x]  Выполнен шаг 1: данные подготовлены\n",
    "- [x]  Выполнен шаг 2: задача исследована\n",
    "    - [x]  Исследован баланс классов\n",
    "    - [x]  Изучены модели без учёта дисбаланса\n",
    "    - [x]  Написаны выводы по результатам исследования\n",
    "- [x]  Выполнен шаг 3: учтён дисбаланс\n",
    "    - [x]  Применено несколько способов борьбы с дисбалансом\n",
    "    - [x]  Написаны выводы по результатам исследования\n",
    "- [x]  Выполнен шаг 4: проведено тестирование\n",
    "- [x]  Удалось достичь *F1*-меры не менее 0.59\n",
    "- [x]  Исследована метрика *AUC-ROC*"
   ]
  }
 ],
 "metadata": {
  "ExecuteTimeLog": [
   {
    "duration": 1554,
    "start_time": "2022-06-26T11:18:05.624Z"
   },
   {
    "duration": 114,
    "start_time": "2022-06-26T11:18:47.249Z"
   },
   {
    "duration": 45,
    "start_time": "2022-06-27T19:26:16.578Z"
   },
   {
    "duration": 1468,
    "start_time": "2022-06-27T19:26:31.685Z"
   },
   {
    "duration": 367,
    "start_time": "2022-06-27T19:26:33.155Z"
   },
   {
    "duration": 15,
    "start_time": "2022-06-27T19:27:31.045Z"
   },
   {
    "duration": 4,
    "start_time": "2022-06-27T19:27:34.074Z"
   },
   {
    "duration": 26,
    "start_time": "2022-06-27T19:27:34.819Z"
   },
   {
    "duration": 17,
    "start_time": "2022-06-27T19:28:07.772Z"
   },
   {
    "duration": 3,
    "start_time": "2022-06-27T19:28:10.288Z"
   },
   {
    "duration": 14,
    "start_time": "2022-06-27T19:28:10.814Z"
   },
   {
    "duration": 16,
    "start_time": "2022-06-27T19:28:20.120Z"
   },
   {
    "duration": 3,
    "start_time": "2022-06-27T19:28:23.957Z"
   },
   {
    "duration": 13,
    "start_time": "2022-06-27T19:28:24.584Z"
   },
   {
    "duration": 301,
    "start_time": "2022-06-27T19:30:05.746Z"
   },
   {
    "duration": 3,
    "start_time": "2022-06-27T19:30:08.216Z"
   },
   {
    "duration": 308,
    "start_time": "2022-06-27T19:30:08.651Z"
   },
   {
    "duration": 3,
    "start_time": "2022-06-27T19:39:28.090Z"
   },
   {
    "duration": 1953,
    "start_time": "2022-06-27T19:39:28.379Z"
   },
   {
    "duration": 312,
    "start_time": "2022-06-27T19:40:13.730Z"
   },
   {
    "duration": 300,
    "start_time": "2022-06-27T19:40:44.376Z"
   },
   {
    "duration": 1944,
    "start_time": "2022-06-27T19:41:33.697Z"
   },
   {
    "duration": 2014,
    "start_time": "2022-06-27T19:41:44.914Z"
   },
   {
    "duration": 333,
    "start_time": "2022-06-27T19:42:46.382Z"
   },
   {
    "duration": 2094,
    "start_time": "2022-06-27T19:43:04.286Z"
   },
   {
    "duration": 1975,
    "start_time": "2022-06-27T19:43:20.129Z"
   },
   {
    "duration": 349,
    "start_time": "2022-06-27T19:43:36.354Z"
   },
   {
    "duration": 1944,
    "start_time": "2022-06-27T19:44:19.350Z"
   },
   {
    "duration": 3,
    "start_time": "2022-06-27T19:51:11.130Z"
   },
   {
    "duration": 20,
    "start_time": "2022-06-27T19:51:12.106Z"
   },
   {
    "duration": 297,
    "start_time": "2022-06-27T19:51:54.302Z"
   },
   {
    "duration": 0,
    "start_time": "2022-06-27T19:52:04.886Z"
   },
   {
    "duration": 0,
    "start_time": "2022-06-27T19:52:04.887Z"
   },
   {
    "duration": 13,
    "start_time": "2022-06-27T19:52:07.812Z"
   },
   {
    "duration": 3,
    "start_time": "2022-06-27T19:52:25.749Z"
   },
   {
    "duration": 296,
    "start_time": "2022-06-27T19:52:26.332Z"
   },
   {
    "duration": 7,
    "start_time": "2022-06-27T19:52:27.686Z"
   },
   {
    "duration": 1301,
    "start_time": "2022-06-27T19:52:41.830Z"
   },
   {
    "duration": 370,
    "start_time": "2022-06-27T19:52:43.133Z"
   },
   {
    "duration": 0,
    "start_time": "2022-06-27T19:52:43.505Z"
   },
   {
    "duration": 0,
    "start_time": "2022-06-27T19:52:43.506Z"
   },
   {
    "duration": 0,
    "start_time": "2022-06-27T19:52:43.507Z"
   },
   {
    "duration": 0,
    "start_time": "2022-06-27T19:52:43.508Z"
   },
   {
    "duration": 0,
    "start_time": "2022-06-27T19:52:43.509Z"
   },
   {
    "duration": 0,
    "start_time": "2022-06-27T19:52:43.510Z"
   },
   {
    "duration": 0,
    "start_time": "2022-06-27T19:52:43.511Z"
   },
   {
    "duration": 0,
    "start_time": "2022-06-27T19:52:43.512Z"
   },
   {
    "duration": 0,
    "start_time": "2022-06-27T19:52:43.513Z"
   },
   {
    "duration": 0,
    "start_time": "2022-06-27T19:52:43.514Z"
   },
   {
    "duration": 306,
    "start_time": "2022-06-27T19:54:02.464Z"
   },
   {
    "duration": 3,
    "start_time": "2022-06-27T19:54:09.330Z"
   },
   {
    "duration": 304,
    "start_time": "2022-06-27T19:54:09.883Z"
   },
   {
    "duration": 1796,
    "start_time": "2022-06-27T19:55:53.052Z"
   },
   {
    "duration": 294,
    "start_time": "2022-06-27T20:12:00.377Z"
   },
   {
    "duration": 3,
    "start_time": "2022-06-27T20:14:33.253Z"
   },
   {
    "duration": 3,
    "start_time": "2022-06-27T20:14:34.058Z"
   },
   {
    "duration": 19,
    "start_time": "2022-06-27T20:14:34.722Z"
   },
   {
    "duration": 5,
    "start_time": "2022-06-27T20:14:46.874Z"
   },
   {
    "duration": 2,
    "start_time": "2022-06-27T20:14:47.717Z"
   },
   {
    "duration": 15,
    "start_time": "2022-06-27T20:14:48.450Z"
   },
   {
    "duration": 1311,
    "start_time": "2022-06-27T20:15:19.848Z"
   },
   {
    "duration": 10,
    "start_time": "2022-06-27T20:15:21.161Z"
   },
   {
    "duration": 114,
    "start_time": "2022-06-27T20:15:21.176Z"
   },
   {
    "duration": 0,
    "start_time": "2022-06-27T20:15:21.292Z"
   },
   {
    "duration": 0,
    "start_time": "2022-06-27T20:15:21.293Z"
   },
   {
    "duration": 0,
    "start_time": "2022-06-27T20:15:21.294Z"
   },
   {
    "duration": 0,
    "start_time": "2022-06-27T20:15:21.295Z"
   },
   {
    "duration": 0,
    "start_time": "2022-06-27T20:15:21.296Z"
   },
   {
    "duration": 0,
    "start_time": "2022-06-27T20:15:21.297Z"
   },
   {
    "duration": 0,
    "start_time": "2022-06-27T20:15:21.298Z"
   },
   {
    "duration": 0,
    "start_time": "2022-06-27T20:15:21.299Z"
   },
   {
    "duration": 0,
    "start_time": "2022-06-27T20:15:21.300Z"
   },
   {
    "duration": 0,
    "start_time": "2022-06-27T20:15:21.301Z"
   },
   {
    "duration": 48,
    "start_time": "2022-06-27T20:17:57.517Z"
   },
   {
    "duration": 1256,
    "start_time": "2022-06-27T20:18:06.867Z"
   },
   {
    "duration": 129,
    "start_time": "2022-06-27T20:18:08.125Z"
   },
   {
    "duration": 0,
    "start_time": "2022-06-27T20:18:08.255Z"
   },
   {
    "duration": 0,
    "start_time": "2022-06-27T20:18:08.256Z"
   },
   {
    "duration": 0,
    "start_time": "2022-06-27T20:18:08.257Z"
   },
   {
    "duration": 0,
    "start_time": "2022-06-27T20:18:08.258Z"
   },
   {
    "duration": 0,
    "start_time": "2022-06-27T20:18:08.259Z"
   },
   {
    "duration": 0,
    "start_time": "2022-06-27T20:18:08.260Z"
   },
   {
    "duration": 0,
    "start_time": "2022-06-27T20:18:08.260Z"
   },
   {
    "duration": 0,
    "start_time": "2022-06-27T20:18:08.261Z"
   },
   {
    "duration": 0,
    "start_time": "2022-06-27T20:18:08.262Z"
   },
   {
    "duration": 0,
    "start_time": "2022-06-27T20:18:08.263Z"
   },
   {
    "duration": 71,
    "start_time": "2022-06-27T20:18:34.354Z"
   },
   {
    "duration": 102,
    "start_time": "2022-06-27T20:20:28.970Z"
   },
   {
    "duration": 46,
    "start_time": "2022-06-27T20:20:58.598Z"
   },
   {
    "duration": 1207,
    "start_time": "2022-06-27T20:21:10.330Z"
   },
   {
    "duration": 125,
    "start_time": "2022-06-27T20:21:11.539Z"
   },
   {
    "duration": 0,
    "start_time": "2022-06-27T20:21:11.666Z"
   },
   {
    "duration": 0,
    "start_time": "2022-06-27T20:21:11.667Z"
   },
   {
    "duration": 0,
    "start_time": "2022-06-27T20:21:11.668Z"
   },
   {
    "duration": 0,
    "start_time": "2022-06-27T20:21:11.669Z"
   },
   {
    "duration": 0,
    "start_time": "2022-06-27T20:21:11.670Z"
   },
   {
    "duration": 0,
    "start_time": "2022-06-27T20:21:11.671Z"
   },
   {
    "duration": 0,
    "start_time": "2022-06-27T20:21:11.672Z"
   },
   {
    "duration": 0,
    "start_time": "2022-06-27T20:21:11.672Z"
   },
   {
    "duration": 0,
    "start_time": "2022-06-27T20:21:11.674Z"
   },
   {
    "duration": 0,
    "start_time": "2022-06-27T20:21:11.674Z"
   },
   {
    "duration": 69,
    "start_time": "2022-06-27T20:23:03.645Z"
   },
   {
    "duration": 14,
    "start_time": "2022-06-27T20:23:39.549Z"
   },
   {
    "duration": 155,
    "start_time": "2022-06-27T20:27:48.911Z"
   },
   {
    "duration": 1192,
    "start_time": "2022-06-27T20:29:09.778Z"
   },
   {
    "duration": 47,
    "start_time": "2022-06-27T20:29:10.972Z"
   },
   {
    "duration": 16,
    "start_time": "2022-06-27T20:29:11.020Z"
   },
   {
    "duration": 4,
    "start_time": "2022-06-27T20:29:11.037Z"
   },
   {
    "duration": 25,
    "start_time": "2022-06-27T20:29:11.043Z"
   },
   {
    "duration": 5,
    "start_time": "2022-06-27T20:29:11.070Z"
   },
   {
    "duration": 18,
    "start_time": "2022-06-27T20:29:11.077Z"
   },
   {
    "duration": 33,
    "start_time": "2022-06-27T20:29:11.097Z"
   },
   {
    "duration": 22,
    "start_time": "2022-06-27T20:29:11.132Z"
   },
   {
    "duration": 21,
    "start_time": "2022-06-27T20:29:11.156Z"
   },
   {
    "duration": 25,
    "start_time": "2022-06-27T20:29:11.178Z"
   },
   {
    "duration": 5,
    "start_time": "2022-06-27T20:29:11.205Z"
   },
   {
    "duration": 47,
    "start_time": "2022-06-29T10:13:06.795Z"
   },
   {
    "duration": 1518,
    "start_time": "2022-06-29T10:13:11.290Z"
   },
   {
    "duration": 71,
    "start_time": "2022-06-29T10:13:12.811Z"
   },
   {
    "duration": 17,
    "start_time": "2022-06-29T10:13:12.884Z"
   },
   {
    "duration": 6,
    "start_time": "2022-06-29T10:13:12.903Z"
   },
   {
    "duration": 58,
    "start_time": "2022-06-29T10:13:12.911Z"
   },
   {
    "duration": 6,
    "start_time": "2022-06-29T10:13:12.971Z"
   },
   {
    "duration": 33,
    "start_time": "2022-06-29T10:13:12.980Z"
   },
   {
    "duration": 6,
    "start_time": "2022-06-29T10:13:13.016Z"
   },
   {
    "duration": 13,
    "start_time": "2022-06-29T10:13:13.505Z"
   },
   {
    "duration": 4,
    "start_time": "2022-06-29T10:13:13.720Z"
   },
   {
    "duration": 21,
    "start_time": "2022-06-29T10:13:14.268Z"
   },
   {
    "duration": 4,
    "start_time": "2022-06-29T10:13:14.930Z"
   },
   {
    "duration": 990,
    "start_time": "2022-06-29T10:38:56.234Z"
   },
   {
    "duration": 129,
    "start_time": "2022-06-29T10:39:02.875Z"
   },
   {
    "duration": 111,
    "start_time": "2022-06-29T10:41:15.393Z"
   },
   {
    "duration": 50,
    "start_time": "2022-06-29T10:42:46.649Z"
   },
   {
    "duration": 11,
    "start_time": "2022-06-29T10:43:17.525Z"
   },
   {
    "duration": 8,
    "start_time": "2022-06-29T10:43:29.739Z"
   },
   {
    "duration": 9,
    "start_time": "2022-06-29T10:43:50.668Z"
   },
   {
    "duration": 23,
    "start_time": "2022-06-29T10:44:04.123Z"
   },
   {
    "duration": 3,
    "start_time": "2022-06-29T10:44:07.845Z"
   },
   {
    "duration": 104,
    "start_time": "2022-06-29T10:44:17.164Z"
   },
   {
    "duration": 6,
    "start_time": "2022-06-29T10:44:24.308Z"
   },
   {
    "duration": 8,
    "start_time": "2022-06-29T10:49:12.194Z"
   },
   {
    "duration": 6,
    "start_time": "2022-06-29T10:49:12.485Z"
   },
   {
    "duration": 3,
    "start_time": "2022-06-29T10:49:14.338Z"
   },
   {
    "duration": 57,
    "start_time": "2022-06-29T10:49:14.746Z"
   },
   {
    "duration": 7,
    "start_time": "2022-06-29T10:49:15.086Z"
   },
   {
    "duration": 106072,
    "start_time": "2022-06-29T10:49:51.600Z"
   },
   {
    "duration": 4,
    "start_time": "2022-06-29T10:52:32.641Z"
   },
   {
    "duration": 11,
    "start_time": "2022-06-29T10:54:32.896Z"
   },
   {
    "duration": 4,
    "start_time": "2022-06-29T10:55:59.038Z"
   },
   {
    "duration": 14,
    "start_time": "2022-06-29T10:55:59.405Z"
   },
   {
    "duration": 27,
    "start_time": "2022-06-29T10:56:13.796Z"
   },
   {
    "duration": 14,
    "start_time": "2022-06-29T10:56:14.285Z"
   },
   {
    "duration": 27,
    "start_time": "2022-06-29T10:56:25.102Z"
   },
   {
    "duration": 14,
    "start_time": "2022-06-29T10:56:25.527Z"
   },
   {
    "duration": 12859,
    "start_time": "2022-06-29T10:56:30.222Z"
   },
   {
    "duration": 87,
    "start_time": "2022-06-29T10:56:43.088Z"
   },
   {
    "duration": 11,
    "start_time": "2022-06-29T11:28:02.306Z"
   },
   {
    "duration": 23,
    "start_time": "2022-06-29T11:28:16.366Z"
   },
   {
    "duration": 34,
    "start_time": "2022-06-29T11:28:16.946Z"
   },
   {
    "duration": 35736,
    "start_time": "2022-06-29T11:28:20.637Z"
   },
   {
    "duration": 4995,
    "start_time": "2022-06-29T11:28:56.376Z"
   },
   {
    "duration": 97,
    "start_time": "2022-06-29T11:29:01.372Z"
   },
   {
    "duration": 215,
    "start_time": "2022-06-29T11:29:01.472Z"
   },
   {
    "duration": 17,
    "start_time": "2022-06-29T11:30:02.407Z"
   },
   {
    "duration": 6,
    "start_time": "2022-06-29T11:30:08.450Z"
   },
   {
    "duration": 19,
    "start_time": "2022-06-29T11:34:16.474Z"
   },
   {
    "duration": 6,
    "start_time": "2022-06-29T11:34:31.484Z"
   },
   {
    "duration": 15,
    "start_time": "2022-06-29T11:37:19.241Z"
   },
   {
    "duration": 5,
    "start_time": "2022-06-29T11:37:48.074Z"
   },
   {
    "duration": 6,
    "start_time": "2022-06-29T11:38:03.267Z"
   },
   {
    "duration": 4,
    "start_time": "2022-06-29T11:38:30.089Z"
   },
   {
    "duration": 6,
    "start_time": "2022-06-29T11:38:30.329Z"
   },
   {
    "duration": 4726,
    "start_time": "2022-06-29T11:38:37.846Z"
   },
   {
    "duration": 97,
    "start_time": "2022-06-29T11:38:42.577Z"
   },
   {
    "duration": 195,
    "start_time": "2022-06-29T11:38:42.676Z"
   },
   {
    "duration": 193,
    "start_time": "2022-06-29T11:38:42.873Z"
   },
   {
    "duration": 60,
    "start_time": "2022-06-29T11:38:47.277Z"
   },
   {
    "duration": 18,
    "start_time": "2022-06-29T11:38:48.057Z"
   },
   {
    "duration": 6,
    "start_time": "2022-06-29T11:38:48.452Z"
   },
   {
    "duration": 5,
    "start_time": "2022-06-29T11:38:48.827Z"
   },
   {
    "duration": 5,
    "start_time": "2022-06-29T11:38:49.175Z"
   },
   {
    "duration": 21,
    "start_time": "2022-06-29T11:39:24.744Z"
   },
   {
    "duration": 6,
    "start_time": "2022-06-29T11:39:25.069Z"
   },
   {
    "duration": 4,
    "start_time": "2022-06-29T11:39:39.621Z"
   },
   {
    "duration": 6,
    "start_time": "2022-06-29T11:39:39.879Z"
   },
   {
    "duration": 20,
    "start_time": "2022-06-29T11:39:47.904Z"
   },
   {
    "duration": 5,
    "start_time": "2022-06-29T11:39:48.668Z"
   },
   {
    "duration": 7,
    "start_time": "2022-06-29T11:39:49.251Z"
   },
   {
    "duration": 232,
    "start_time": "2022-06-29T11:41:00.169Z"
   },
   {
    "duration": 5383,
    "start_time": "2022-06-29T11:41:52.285Z"
   },
   {
    "duration": 6,
    "start_time": "2022-06-29T11:41:57.670Z"
   },
   {
    "duration": 7908,
    "start_time": "2022-06-29T11:42:26.568Z"
   },
   {
    "duration": 96,
    "start_time": "2022-06-29T11:42:34.573Z"
   },
   {
    "duration": 53,
    "start_time": "2022-06-29T11:46:12.219Z"
   },
   {
    "duration": 3,
    "start_time": "2022-06-29T11:48:31.450Z"
   },
   {
    "duration": 22,
    "start_time": "2022-06-29T11:51:53.182Z"
   },
   {
    "duration": 4,
    "start_time": "2022-06-29T11:52:14.641Z"
   },
   {
    "duration": 14,
    "start_time": "2022-06-29T11:52:18.321Z"
   },
   {
    "duration": 11355,
    "start_time": "2022-06-29T11:53:18.916Z"
   },
   {
    "duration": 101,
    "start_time": "2022-06-29T11:54:50.518Z"
   },
   {
    "duration": 25,
    "start_time": "2022-06-29T11:55:06.476Z"
   },
   {
    "duration": 113,
    "start_time": "2022-06-29T11:55:07.264Z"
   },
   {
    "duration": 13,
    "start_time": "2022-06-29T11:55:15.547Z"
   },
   {
    "duration": 108,
    "start_time": "2022-06-29T11:55:15.764Z"
   },
   {
    "duration": 175,
    "start_time": "2022-06-29T11:55:18.039Z"
   },
   {
    "duration": 8405,
    "start_time": "2022-06-29T11:55:20.862Z"
   },
   {
    "duration": 14,
    "start_time": "2022-06-29T11:56:07.780Z"
   },
   {
    "duration": 113,
    "start_time": "2022-06-29T11:56:08.384Z"
   },
   {
    "duration": 10,
    "start_time": "2022-06-29T11:56:11.793Z"
   },
   {
    "duration": 99,
    "start_time": "2022-06-29T11:56:12.144Z"
   },
   {
    "duration": 13085,
    "start_time": "2022-06-29T11:56:13.382Z"
   },
   {
    "duration": 11,
    "start_time": "2022-06-29T11:57:09.009Z"
   },
   {
    "duration": 23,
    "start_time": "2022-06-29T11:57:24.088Z"
   },
   {
    "duration": 25,
    "start_time": "2022-06-29T11:57:37.149Z"
   },
   {
    "duration": 23,
    "start_time": "2022-06-29T11:57:45.131Z"
   },
   {
    "duration": 11,
    "start_time": "2022-06-29T11:57:53.585Z"
   },
   {
    "duration": 103,
    "start_time": "2022-06-29T11:57:53.875Z"
   },
   {
    "duration": 15286,
    "start_time": "2022-06-29T11:57:56.889Z"
   },
   {
    "duration": 195,
    "start_time": "2022-06-29T11:58:12.177Z"
   },
   {
    "duration": 5,
    "start_time": "2022-06-29T12:30:38.135Z"
   },
   {
    "duration": 5,
    "start_time": "2022-06-29T12:31:36.065Z"
   },
   {
    "duration": 11,
    "start_time": "2022-06-29T12:31:36.231Z"
   },
   {
    "duration": 25,
    "start_time": "2022-06-29T12:33:24.486Z"
   },
   {
    "duration": 12,
    "start_time": "2022-06-29T12:33:31.488Z"
   },
   {
    "duration": 24,
    "start_time": "2022-06-29T12:33:31.712Z"
   },
   {
    "duration": 17,
    "start_time": "2022-06-29T12:33:34.477Z"
   },
   {
    "duration": 29,
    "start_time": "2022-06-29T12:33:34.830Z"
   },
   {
    "duration": 15,
    "start_time": "2022-06-29T12:33:36.712Z"
   },
   {
    "duration": 28,
    "start_time": "2022-06-29T12:33:37.066Z"
   },
   {
    "duration": 135,
    "start_time": "2022-06-29T12:34:26.209Z"
   },
   {
    "duration": 11,
    "start_time": "2022-06-29T12:34:32.020Z"
   },
   {
    "duration": 147,
    "start_time": "2022-06-29T12:34:32.264Z"
   },
   {
    "duration": 12,
    "start_time": "2022-06-29T12:34:35.496Z"
   },
   {
    "duration": 123,
    "start_time": "2022-06-29T12:34:36.133Z"
   },
   {
    "duration": 11,
    "start_time": "2022-06-29T12:34:38.324Z"
   },
   {
    "duration": 114,
    "start_time": "2022-06-29T12:34:39.409Z"
   },
   {
    "duration": 11,
    "start_time": "2022-06-29T12:34:41.404Z"
   },
   {
    "duration": 125,
    "start_time": "2022-06-29T12:34:41.670Z"
   },
   {
    "duration": 12,
    "start_time": "2022-06-29T12:34:44.868Z"
   },
   {
    "duration": 111,
    "start_time": "2022-06-29T12:34:45.218Z"
   },
   {
    "duration": 12,
    "start_time": "2022-06-29T12:34:47.308Z"
   },
   {
    "duration": 114,
    "start_time": "2022-06-29T12:34:47.622Z"
   },
   {
    "duration": 73,
    "start_time": "2022-06-29T12:34:49.494Z"
   },
   {
    "duration": 50,
    "start_time": "2022-06-29T12:37:14.805Z"
   },
   {
    "duration": 37,
    "start_time": "2022-06-29T12:39:06.995Z"
   },
   {
    "duration": 64,
    "start_time": "2022-06-29T12:40:05.292Z"
   },
   {
    "duration": 32,
    "start_time": "2022-06-29T12:40:16.475Z"
   },
   {
    "duration": 8,
    "start_time": "2022-06-29T12:42:16.206Z"
   },
   {
    "duration": 4,
    "start_time": "2022-06-29T12:42:32.948Z"
   },
   {
    "duration": 9,
    "start_time": "2022-06-29T12:42:37.788Z"
   },
   {
    "duration": 10,
    "start_time": "2022-06-29T12:42:42.979Z"
   },
   {
    "duration": 11,
    "start_time": "2022-06-29T12:42:45.910Z"
   },
   {
    "duration": 47,
    "start_time": "2022-06-29T12:43:27.986Z"
   },
   {
    "duration": 57,
    "start_time": "2022-06-29T12:43:48.924Z"
   },
   {
    "duration": 33,
    "start_time": "2022-06-29T12:43:54.276Z"
   },
   {
    "duration": 11,
    "start_time": "2022-06-29T12:43:54.750Z"
   },
   {
    "duration": 1421,
    "start_time": "2022-06-29T13:16:28.020Z"
   },
   {
    "duration": 69,
    "start_time": "2022-06-29T13:16:29.442Z"
   },
   {
    "duration": 15,
    "start_time": "2022-06-29T13:16:29.513Z"
   },
   {
    "duration": 5,
    "start_time": "2022-06-29T13:16:40.102Z"
   },
   {
    "duration": 5,
    "start_time": "2022-06-29T13:16:53.219Z"
   },
   {
    "duration": 6,
    "start_time": "2022-06-29T13:22:43.592Z"
   },
   {
    "duration": 21,
    "start_time": "2022-06-29T13:22:46.140Z"
   },
   {
    "duration": 5,
    "start_time": "2022-06-29T13:22:47.469Z"
   },
   {
    "duration": 6,
    "start_time": "2022-06-29T13:33:25.610Z"
   },
   {
    "duration": 13,
    "start_time": "2022-06-29T13:33:31.568Z"
   },
   {
    "duration": 5,
    "start_time": "2022-06-29T13:33:31.583Z"
   },
   {
    "duration": 20,
    "start_time": "2022-06-29T13:33:31.589Z"
   },
   {
    "duration": 9,
    "start_time": "2022-06-29T13:33:31.611Z"
   },
   {
    "duration": 32,
    "start_time": "2022-06-29T13:33:31.622Z"
   },
   {
    "duration": 3,
    "start_time": "2022-06-29T13:33:31.656Z"
   },
   {
    "duration": 125,
    "start_time": "2022-06-29T13:33:31.660Z"
   },
   {
    "duration": 7,
    "start_time": "2022-06-29T13:33:38.010Z"
   },
   {
    "duration": 5,
    "start_time": "2022-06-29T13:33:38.299Z"
   },
   {
    "duration": 4,
    "start_time": "2022-06-29T13:33:49.639Z"
   },
   {
    "duration": 4,
    "start_time": "2022-06-29T13:33:53.789Z"
   },
   {
    "duration": 3,
    "start_time": "2022-06-29T13:33:56.830Z"
   },
   {
    "duration": 3,
    "start_time": "2022-06-29T14:31:22.290Z"
   },
   {
    "duration": 1219,
    "start_time": "2022-06-29T15:59:13.996Z"
   },
   {
    "duration": 35,
    "start_time": "2022-06-29T15:59:15.217Z"
   },
   {
    "duration": 14,
    "start_time": "2022-06-29T15:59:15.254Z"
   },
   {
    "duration": 4,
    "start_time": "2022-06-29T15:59:15.270Z"
   },
   {
    "duration": 20,
    "start_time": "2022-06-29T15:59:15.275Z"
   },
   {
    "duration": 4,
    "start_time": "2022-06-29T15:59:15.296Z"
   },
   {
    "duration": 12,
    "start_time": "2022-06-29T15:59:15.301Z"
   },
   {
    "duration": 37,
    "start_time": "2022-06-29T15:59:15.314Z"
   },
   {
    "duration": 11,
    "start_time": "2022-06-29T15:59:15.353Z"
   },
   {
    "duration": 4,
    "start_time": "2022-06-29T15:59:15.366Z"
   },
   {
    "duration": 17,
    "start_time": "2022-06-29T15:59:15.372Z"
   },
   {
    "duration": 3,
    "start_time": "2022-06-29T15:59:15.390Z"
   },
   {
    "duration": 137,
    "start_time": "2022-06-29T15:59:15.395Z"
   },
   {
    "duration": 18,
    "start_time": "2022-06-29T15:59:15.533Z"
   },
   {
    "duration": 5,
    "start_time": "2022-06-29T15:59:15.553Z"
   },
   {
    "duration": 35497,
    "start_time": "2022-06-29T15:59:15.559Z"
   },
   {
    "duration": 4301,
    "start_time": "2022-06-29T15:59:51.058Z"
   },
   {
    "duration": 93,
    "start_time": "2022-06-29T15:59:55.360Z"
   },
   {
    "duration": 107,
    "start_time": "2022-06-29T15:59:55.455Z"
   },
   {
    "duration": 93,
    "start_time": "2022-06-29T15:59:55.563Z"
   },
   {
    "duration": 144,
    "start_time": "2022-06-29T15:59:55.658Z"
   },
   {
    "duration": 15,
    "start_time": "2022-06-29T15:59:55.803Z"
   },
   {
    "duration": 6,
    "start_time": "2022-06-29T15:59:55.820Z"
   },
   {
    "duration": 6,
    "start_time": "2022-06-29T15:59:55.828Z"
   },
   {
    "duration": 23,
    "start_time": "2022-06-29T15:59:55.835Z"
   },
   {
    "duration": 26,
    "start_time": "2022-06-29T15:59:55.859Z"
   },
   {
    "duration": 4,
    "start_time": "2022-06-29T15:59:55.886Z"
   },
   {
    "duration": 8,
    "start_time": "2022-06-29T15:59:55.893Z"
   },
   {
    "duration": 6349,
    "start_time": "2022-06-29T15:59:55.902Z"
   },
   {
    "duration": 93,
    "start_time": "2022-06-29T16:00:02.259Z"
   },
   {
    "duration": 29,
    "start_time": "2022-06-29T16:00:02.354Z"
   },
   {
    "duration": 75,
    "start_time": "2022-06-29T16:00:02.384Z"
   },
   {
    "duration": 118,
    "start_time": "2022-06-29T16:00:02.461Z"
   },
   {
    "duration": 8680,
    "start_time": "2022-06-29T16:00:02.580Z"
   },
   {
    "duration": 112,
    "start_time": "2022-06-29T16:00:11.351Z"
   },
   {
    "duration": 5,
    "start_time": "2022-06-29T16:00:11.464Z"
   },
   {
    "duration": 13,
    "start_time": "2022-06-29T16:00:11.470Z"
   },
   {
    "duration": 97,
    "start_time": "2022-06-29T16:00:11.485Z"
   },
   {
    "duration": 17,
    "start_time": "2022-06-29T16:00:11.583Z"
   },
   {
    "duration": 168,
    "start_time": "2022-06-29T16:00:11.601Z"
   },
   {
    "duration": 9,
    "start_time": "2022-06-29T16:00:11.770Z"
   },
   {
    "duration": 1745,
    "start_time": "2022-06-29T21:47:05.162Z"
   },
   {
    "duration": 79,
    "start_time": "2022-06-29T21:47:06.909Z"
   },
   {
    "duration": 24,
    "start_time": "2022-06-29T21:47:06.990Z"
   },
   {
    "duration": 4,
    "start_time": "2022-06-29T21:47:07.017Z"
   },
   {
    "duration": 27,
    "start_time": "2022-06-29T21:47:07.023Z"
   },
   {
    "duration": 10,
    "start_time": "2022-06-29T21:47:07.068Z"
   },
   {
    "duration": 16,
    "start_time": "2022-06-29T21:47:07.079Z"
   },
   {
    "duration": 6,
    "start_time": "2022-06-29T21:47:07.097Z"
   },
   {
    "duration": 15,
    "start_time": "2022-06-29T21:47:07.105Z"
   },
   {
    "duration": 8,
    "start_time": "2022-06-29T21:47:07.123Z"
   },
   {
    "duration": 49,
    "start_time": "2022-06-29T21:47:07.133Z"
   },
   {
    "duration": 5,
    "start_time": "2022-06-29T21:47:07.184Z"
   },
   {
    "duration": 152,
    "start_time": "2022-06-29T21:47:07.191Z"
   },
   {
    "duration": 23,
    "start_time": "2022-06-29T21:47:07.344Z"
   },
   {
    "duration": 6,
    "start_time": "2022-06-29T21:47:07.369Z"
   },
   {
    "duration": 35096,
    "start_time": "2022-06-29T21:47:07.378Z"
   },
   {
    "duration": 6401,
    "start_time": "2022-06-29T21:47:42.476Z"
   },
   {
    "duration": 91,
    "start_time": "2022-06-29T21:47:48.879Z"
   },
   {
    "duration": 111,
    "start_time": "2022-06-29T21:47:48.972Z"
   },
   {
    "duration": 186,
    "start_time": "2022-06-29T21:47:49.085Z"
   },
   {
    "duration": 58,
    "start_time": "2022-06-29T21:47:49.274Z"
   },
   {
    "duration": 37,
    "start_time": "2022-06-29T21:47:49.333Z"
   },
   {
    "duration": 6,
    "start_time": "2022-06-29T21:47:49.371Z"
   },
   {
    "duration": 6,
    "start_time": "2022-06-29T21:47:49.379Z"
   },
   {
    "duration": 8,
    "start_time": "2022-06-29T21:47:49.386Z"
   },
   {
    "duration": 22,
    "start_time": "2022-06-29T21:47:49.396Z"
   },
   {
    "duration": 6,
    "start_time": "2022-06-29T21:47:49.420Z"
   },
   {
    "duration": 43,
    "start_time": "2022-06-29T21:47:49.430Z"
   },
   {
    "duration": 5693,
    "start_time": "2022-06-29T21:47:49.475Z"
   },
   {
    "duration": 9,
    "start_time": "2022-06-29T21:47:55.171Z"
   },
   {
    "duration": 93,
    "start_time": "2022-06-29T21:47:55.183Z"
   },
   {
    "duration": 21,
    "start_time": "2022-06-29T21:47:55.279Z"
   },
   {
    "duration": 134,
    "start_time": "2022-06-29T21:47:55.303Z"
   },
   {
    "duration": 12139,
    "start_time": "2022-06-29T21:47:55.439Z"
   },
   {
    "duration": 199,
    "start_time": "2022-06-29T21:48:07.581Z"
   },
   {
    "duration": 5,
    "start_time": "2022-06-29T21:48:07.782Z"
   },
   {
    "duration": 18,
    "start_time": "2022-06-29T21:48:07.789Z"
   },
   {
    "duration": 125,
    "start_time": "2022-06-29T21:48:07.809Z"
   },
   {
    "duration": 44,
    "start_time": "2022-06-29T21:48:07.936Z"
   },
   {
    "duration": 203,
    "start_time": "2022-06-29T21:48:07.982Z"
   },
   {
    "duration": 15,
    "start_time": "2022-06-29T21:48:08.187Z"
   },
   {
    "duration": 9,
    "start_time": "2022-06-29T21:49:10.218Z"
   },
   {
    "duration": 0,
    "start_time": "2022-06-29T21:49:44.255Z"
   },
   {
    "duration": 0,
    "start_time": "2022-06-29T21:49:44.257Z"
   },
   {
    "duration": 10,
    "start_time": "2022-06-29T21:49:44.270Z"
   },
   {
    "duration": 50,
    "start_time": "2022-06-29T21:49:58.343Z"
   },
   {
    "duration": 42593,
    "start_time": "2022-06-29T21:52:53.275Z"
   },
   {
    "duration": 58,
    "start_time": "2022-06-29T21:54:36.149Z"
   },
   {
    "duration": 5279,
    "start_time": "2022-06-29T21:54:44.995Z"
   },
   {
    "duration": 92,
    "start_time": "2022-06-29T21:54:50.276Z"
   },
   {
    "duration": 68,
    "start_time": "2022-06-29T21:56:41.005Z"
   },
   {
    "duration": 5,
    "start_time": "2022-06-29T22:01:22.551Z"
   },
   {
    "duration": 6,
    "start_time": "2022-06-29T22:01:22.926Z"
   },
   {
    "duration": 20,
    "start_time": "2022-06-29T22:01:25.162Z"
   },
   {
    "duration": 5,
    "start_time": "2022-06-29T22:01:25.544Z"
   },
   {
    "duration": 5,
    "start_time": "2022-06-29T22:01:25.861Z"
   },
   {
    "duration": 6564,
    "start_time": "2022-06-29T22:01:28.809Z"
   },
   {
    "duration": 97,
    "start_time": "2022-06-29T22:01:35.378Z"
   },
   {
    "duration": 4,
    "start_time": "2022-06-29T22:01:42.352Z"
   },
   {
    "duration": 10,
    "start_time": "2022-06-29T22:01:43.235Z"
   },
   {
    "duration": 89,
    "start_time": "2022-06-29T22:01:44.112Z"
   },
   {
    "duration": 9993,
    "start_time": "2022-06-29T22:01:44.384Z"
   },
   {
    "duration": 197,
    "start_time": "2022-06-29T22:01:54.379Z"
   },
   {
    "duration": 5,
    "start_time": "2022-06-29T22:01:54.577Z"
   },
   {
    "duration": 10,
    "start_time": "2022-06-29T22:01:54.584Z"
   },
   {
    "duration": 127,
    "start_time": "2022-06-29T22:01:54.596Z"
   },
   {
    "duration": 44,
    "start_time": "2022-06-29T22:01:54.724Z"
   },
   {
    "duration": 118,
    "start_time": "2022-06-29T22:01:54.769Z"
   },
   {
    "duration": 68,
    "start_time": "2022-06-29T22:01:54.889Z"
   },
   {
    "duration": 0,
    "start_time": "2022-06-29T22:01:54.959Z"
   },
   {
    "duration": 7,
    "start_time": "2022-06-29T22:02:07.634Z"
   },
   {
    "duration": 5095,
    "start_time": "2022-06-29T22:02:26.982Z"
   },
   {
    "duration": 90,
    "start_time": "2022-06-29T22:02:32.079Z"
   },
   {
    "duration": 9683,
    "start_time": "2022-06-29T22:03:10.884Z"
   },
   {
    "duration": 26,
    "start_time": "2022-06-29T22:03:35.218Z"
   },
   {
    "duration": 4,
    "start_time": "2022-06-29T22:03:38.002Z"
   },
   {
    "duration": 10,
    "start_time": "2022-06-29T22:03:38.552Z"
   },
   {
    "duration": 176,
    "start_time": "2022-06-29T22:03:40.357Z"
   },
   {
    "duration": 25,
    "start_time": "2022-06-29T22:03:47.654Z"
   },
   {
    "duration": 26,
    "start_time": "2022-06-29T22:03:59.612Z"
   },
   {
    "duration": 143,
    "start_time": "2022-06-29T22:04:00.845Z"
   },
   {
    "duration": 9,
    "start_time": "2022-06-29T22:04:06.823Z"
   },
   {
    "duration": 1538,
    "start_time": "2022-06-30T07:53:24.545Z"
   },
   {
    "duration": 95,
    "start_time": "2022-06-30T07:53:26.085Z"
   },
   {
    "duration": 16,
    "start_time": "2022-06-30T07:53:26.182Z"
   },
   {
    "duration": 4,
    "start_time": "2022-06-30T07:53:26.200Z"
   },
   {
    "duration": 35,
    "start_time": "2022-06-30T07:53:26.205Z"
   },
   {
    "duration": 5,
    "start_time": "2022-06-30T07:53:26.241Z"
   },
   {
    "duration": 17,
    "start_time": "2022-06-30T07:53:26.248Z"
   },
   {
    "duration": 5,
    "start_time": "2022-06-30T07:53:26.266Z"
   },
   {
    "duration": 13,
    "start_time": "2022-06-30T07:53:26.272Z"
   },
   {
    "duration": 4,
    "start_time": "2022-06-30T07:53:26.288Z"
   },
   {
    "duration": 20,
    "start_time": "2022-06-30T07:53:26.293Z"
   },
   {
    "duration": 3,
    "start_time": "2022-06-30T07:53:26.315Z"
   },
   {
    "duration": 151,
    "start_time": "2022-06-30T07:53:26.320Z"
   },
   {
    "duration": 8,
    "start_time": "2022-06-30T07:53:26.473Z"
   },
   {
    "duration": 5,
    "start_time": "2022-06-30T07:53:26.482Z"
   },
   {
    "duration": 37973,
    "start_time": "2022-06-30T07:53:26.489Z"
   },
   {
    "duration": 269,
    "start_time": "2022-06-30T07:54:04.464Z"
   },
   {
    "duration": 1,
    "start_time": "2022-06-30T07:54:04.736Z"
   },
   {
    "duration": 0,
    "start_time": "2022-06-30T07:54:04.738Z"
   },
   {
    "duration": 0,
    "start_time": "2022-06-30T07:54:04.751Z"
   },
   {
    "duration": 0,
    "start_time": "2022-06-30T07:54:04.752Z"
   },
   {
    "duration": 0,
    "start_time": "2022-06-30T07:54:04.753Z"
   },
   {
    "duration": 0,
    "start_time": "2022-06-30T07:54:04.754Z"
   },
   {
    "duration": 0,
    "start_time": "2022-06-30T07:54:04.756Z"
   },
   {
    "duration": 0,
    "start_time": "2022-06-30T07:54:04.757Z"
   },
   {
    "duration": 0,
    "start_time": "2022-06-30T07:54:04.758Z"
   },
   {
    "duration": 0,
    "start_time": "2022-06-30T07:54:04.759Z"
   },
   {
    "duration": 0,
    "start_time": "2022-06-30T07:54:04.760Z"
   },
   {
    "duration": 0,
    "start_time": "2022-06-30T07:54:04.761Z"
   },
   {
    "duration": 0,
    "start_time": "2022-06-30T07:54:04.762Z"
   },
   {
    "duration": 0,
    "start_time": "2022-06-30T07:54:04.763Z"
   },
   {
    "duration": 0,
    "start_time": "2022-06-30T07:54:04.764Z"
   },
   {
    "duration": 0,
    "start_time": "2022-06-30T07:54:04.766Z"
   },
   {
    "duration": 0,
    "start_time": "2022-06-30T07:54:04.767Z"
   },
   {
    "duration": 0,
    "start_time": "2022-06-30T07:54:04.768Z"
   },
   {
    "duration": 0,
    "start_time": "2022-06-30T07:54:04.769Z"
   },
   {
    "duration": 0,
    "start_time": "2022-06-30T07:54:04.770Z"
   },
   {
    "duration": 0,
    "start_time": "2022-06-30T07:54:04.771Z"
   },
   {
    "duration": 8124,
    "start_time": "2022-06-30T07:55:05.536Z"
   },
   {
    "duration": 93,
    "start_time": "2022-06-30T07:55:13.662Z"
   },
   {
    "duration": 201,
    "start_time": "2022-06-30T07:55:13.757Z"
   },
   {
    "duration": 192,
    "start_time": "2022-06-30T07:55:13.961Z"
   },
   {
    "duration": 127,
    "start_time": "2022-06-30T07:55:14.157Z"
   },
   {
    "duration": 72,
    "start_time": "2022-06-30T07:55:14.286Z"
   },
   {
    "duration": 4,
    "start_time": "2022-06-30T07:55:14.360Z"
   },
   {
    "duration": 9,
    "start_time": "2022-06-30T07:55:14.366Z"
   },
   {
    "duration": 6783,
    "start_time": "2022-06-30T07:55:14.377Z"
   },
   {
    "duration": 95,
    "start_time": "2022-06-30T07:55:21.162Z"
   },
   {
    "duration": 98,
    "start_time": "2022-06-30T07:55:21.260Z"
   },
   {
    "duration": 14,
    "start_time": "2022-06-30T07:55:21.360Z"
   },
   {
    "duration": 99,
    "start_time": "2022-06-30T07:55:21.376Z"
   },
   {
    "duration": 9981,
    "start_time": "2022-06-30T07:55:21.477Z"
   },
   {
    "duration": 204,
    "start_time": "2022-06-30T07:55:31.460Z"
   },
   {
    "duration": 3,
    "start_time": "2022-06-30T07:55:31.666Z"
   },
   {
    "duration": 28,
    "start_time": "2022-06-30T07:55:31.671Z"
   },
   {
    "duration": 98,
    "start_time": "2022-06-30T07:55:31.701Z"
   },
   {
    "duration": 53,
    "start_time": "2022-06-30T07:55:31.800Z"
   },
   {
    "duration": 113,
    "start_time": "2022-06-30T07:55:31.855Z"
   },
   {
    "duration": 8,
    "start_time": "2022-06-30T07:55:31.969Z"
   },
   {
    "duration": 48,
    "start_time": "2022-06-30T08:50:58.271Z"
   },
   {
    "duration": 1402,
    "start_time": "2022-06-30T08:51:02.886Z"
   },
   {
    "duration": 66,
    "start_time": "2022-06-30T08:51:04.290Z"
   },
   {
    "duration": 15,
    "start_time": "2022-06-30T08:51:04.358Z"
   },
   {
    "duration": 9,
    "start_time": "2022-06-30T08:51:04.375Z"
   },
   {
    "duration": 27,
    "start_time": "2022-06-30T08:51:04.385Z"
   },
   {
    "duration": 14,
    "start_time": "2022-06-30T08:51:04.413Z"
   },
   {
    "duration": 23,
    "start_time": "2022-06-30T08:51:04.428Z"
   },
   {
    "duration": 5,
    "start_time": "2022-06-30T08:51:04.452Z"
   },
   {
    "duration": 13,
    "start_time": "2022-06-30T08:51:04.458Z"
   },
   {
    "duration": 6,
    "start_time": "2022-06-30T08:51:04.473Z"
   },
   {
    "duration": 24,
    "start_time": "2022-06-30T08:51:04.480Z"
   },
   {
    "duration": 5,
    "start_time": "2022-06-30T08:51:04.505Z"
   },
   {
    "duration": 142,
    "start_time": "2022-06-30T08:51:04.511Z"
   },
   {
    "duration": 9,
    "start_time": "2022-06-30T08:51:04.654Z"
   },
   {
    "duration": 5,
    "start_time": "2022-06-30T08:51:04.664Z"
   },
   {
    "duration": 50766,
    "start_time": "2022-06-30T08:51:04.671Z"
   },
   {
    "duration": 6991,
    "start_time": "2022-06-30T08:51:55.441Z"
   },
   {
    "duration": 230,
    "start_time": "2022-06-30T08:52:02.435Z"
   },
   {
    "duration": 17,
    "start_time": "2022-06-30T08:52:02.667Z"
   },
   {
    "duration": 4,
    "start_time": "2022-06-30T08:52:02.686Z"
   },
   {
    "duration": 12,
    "start_time": "2022-06-30T08:52:02.692Z"
   },
   {
    "duration": 8622,
    "start_time": "2022-06-30T08:52:02.706Z"
   },
   {
    "duration": 97,
    "start_time": "2022-06-30T08:52:11.331Z"
   },
   {
    "duration": 9,
    "start_time": "2022-06-30T08:52:11.431Z"
   },
   {
    "duration": 92,
    "start_time": "2022-06-30T08:52:11.442Z"
   },
   {
    "duration": 109,
    "start_time": "2022-06-30T08:52:11.536Z"
   },
   {
    "duration": 12287,
    "start_time": "2022-06-30T08:52:11.647Z"
   },
   {
    "duration": 211,
    "start_time": "2022-06-30T08:52:23.936Z"
   },
   {
    "duration": 4,
    "start_time": "2022-06-30T08:52:24.149Z"
   },
   {
    "duration": 31,
    "start_time": "2022-06-30T08:52:24.155Z"
   },
   {
    "duration": 96,
    "start_time": "2022-06-30T08:52:24.187Z"
   },
   {
    "duration": 45,
    "start_time": "2022-06-30T08:52:24.284Z"
   },
   {
    "duration": 112,
    "start_time": "2022-06-30T08:52:24.336Z"
   },
   {
    "duration": 9,
    "start_time": "2022-06-30T08:52:24.450Z"
   },
   {
    "duration": 51,
    "start_time": "2022-06-30T08:52:24.462Z"
   },
   {
    "duration": 1281,
    "start_time": "2022-06-30T08:53:10.485Z"
   },
   {
    "duration": 41,
    "start_time": "2022-06-30T08:53:11.768Z"
   },
   {
    "duration": 16,
    "start_time": "2022-06-30T08:53:11.810Z"
   },
   {
    "duration": 4,
    "start_time": "2022-06-30T08:53:11.828Z"
   },
   {
    "duration": 24,
    "start_time": "2022-06-30T08:53:11.834Z"
   },
   {
    "duration": 5,
    "start_time": "2022-06-30T08:53:11.859Z"
   },
   {
    "duration": 15,
    "start_time": "2022-06-30T08:53:11.865Z"
   },
   {
    "duration": 5,
    "start_time": "2022-06-30T08:53:11.881Z"
   },
   {
    "duration": 43,
    "start_time": "2022-06-30T08:53:11.888Z"
   },
   {
    "duration": 8,
    "start_time": "2022-06-30T08:53:11.933Z"
   },
   {
    "duration": 20,
    "start_time": "2022-06-30T08:53:11.943Z"
   },
   {
    "duration": 3,
    "start_time": "2022-06-30T08:53:11.965Z"
   },
   {
    "duration": 139,
    "start_time": "2022-06-30T08:53:11.970Z"
   },
   {
    "duration": 17,
    "start_time": "2022-06-30T08:53:12.110Z"
   },
   {
    "duration": 5,
    "start_time": "2022-06-30T08:53:12.128Z"
   },
   {
    "duration": 44708,
    "start_time": "2022-06-30T08:53:12.135Z"
   },
   {
    "duration": 6690,
    "start_time": "2022-06-30T08:53:56.845Z"
   },
   {
    "duration": 241,
    "start_time": "2022-06-30T08:54:03.537Z"
   },
   {
    "duration": 18,
    "start_time": "2022-06-30T08:54:03.780Z"
   },
   {
    "duration": 5,
    "start_time": "2022-06-30T08:54:03.800Z"
   },
   {
    "duration": 11,
    "start_time": "2022-06-30T08:54:03.827Z"
   },
   {
    "duration": 8795,
    "start_time": "2022-06-30T08:54:03.840Z"
   },
   {
    "duration": 98,
    "start_time": "2022-06-30T08:54:12.637Z"
   },
   {
    "duration": 8,
    "start_time": "2022-06-30T08:54:12.827Z"
   },
   {
    "duration": 14,
    "start_time": "2022-06-30T08:54:12.836Z"
   },
   {
    "duration": 115,
    "start_time": "2022-06-30T08:54:12.851Z"
   },
   {
    "duration": 115,
    "start_time": "2022-06-30T08:54:25.933Z"
   },
   {
    "duration": 7,
    "start_time": "2022-06-30T08:54:26.050Z"
   },
   {
    "duration": 13470,
    "start_time": "2022-06-30T08:54:26.058Z"
   },
   {
    "duration": 114,
    "start_time": "2022-06-30T08:54:39.530Z"
   },
   {
    "duration": 4,
    "start_time": "2022-06-30T08:54:39.646Z"
   },
   {
    "duration": 14,
    "start_time": "2022-06-30T08:54:39.651Z"
   },
   {
    "duration": 120,
    "start_time": "2022-06-30T08:54:39.666Z"
   },
   {
    "duration": 44,
    "start_time": "2022-06-30T08:54:39.788Z"
   },
   {
    "duration": 114,
    "start_time": "2022-06-30T08:54:39.840Z"
   },
   {
    "duration": 7,
    "start_time": "2022-06-30T08:54:39.956Z"
   }
  ],
  "kernelspec": {
   "display_name": "Python 3",
   "language": "python",
   "name": "python3"
  },
  "language_info": {
   "codemirror_mode": {
    "name": "ipython",
    "version": 3
   },
   "file_extension": ".py",
   "mimetype": "text/x-python",
   "name": "python",
   "nbconvert_exporter": "python",
   "pygments_lexer": "ipython3",
   "version": "3.8.8"
  },
  "toc": {
   "base_numbering": 1,
   "nav_menu": {},
   "number_sections": true,
   "sideBar": true,
   "skip_h1_title": true,
   "title_cell": "Содержание",
   "title_sidebar": "Contents",
   "toc_cell": true,
   "toc_position": {},
   "toc_section_display": true,
   "toc_window_display": true
  }
 },
 "nbformat": 4,
 "nbformat_minor": 2
}
